{
 "cells": [
  {
   "cell_type": "code",
   "execution_count": 1,
   "id": "ea4afda4",
   "metadata": {},
   "outputs": [],
   "source": [
    "x = 1"
   ]
  },
  {
   "cell_type": "code",
   "execution_count": 3,
   "id": "108942d1",
   "metadata": {},
   "outputs": [],
   "source": [
    "x = x + 1"
   ]
  },
  {
   "cell_type": "code",
   "execution_count": 4,
   "id": "23f7da63",
   "metadata": {},
   "outputs": [
    {
     "data": {
      "text/plain": [
       "2"
      ]
     },
     "execution_count": 4,
     "metadata": {},
     "output_type": "execute_result"
    }
   ],
   "source": [
    "x"
   ]
  },
  {
   "cell_type": "markdown",
   "id": "beded21f",
   "metadata": {},
   "source": [
    "to comment out a line use Control + /"
   ]
  },
  {
   "cell_type": "markdown",
   "id": "b42ee47e",
   "metadata": {},
   "source": [
    "Esc will take you into command mode where you can navigate around your notebook with arrow keys."
   ]
  },
  {
   "cell_type": "markdown",
   "id": "21fe580e",
   "metadata": {},
   "source": [
    "M to change the current cell to Markdown, Y to change it back to code"
   ]
  }
 ],
 "metadata": {
  "kernelspec": {
   "display_name": "Python 3 (ipykernel)",
   "language": "python",
   "name": "python3"
  },
  "language_info": {
   "codemirror_mode": {
    "name": "ipython",
    "version": 3
   },
   "file_extension": ".py",
   "mimetype": "text/x-python",
   "name": "python",
   "nbconvert_exporter": "python",
   "pygments_lexer": "ipython3",
   "version": "3.9.12"
  }
 },
 "nbformat": 4,
 "nbformat_minor": 5
}
