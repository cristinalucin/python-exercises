{
 "cells": [
  {
   "cell_type": "markdown",
   "id": "bbe81c1c",
   "metadata": {},
   "source": [
    "Identify the data type of the following values:"
   ]
  },
  {
   "cell_type": "markdown",
   "id": "7ac02dca",
   "metadata": {},
   "source": [
    "* use data type that allows you to accomplish the task"
   ]
  },
  {
   "cell_type": "markdown",
   "id": "a6b3fe12",
   "metadata": {},
   "source": [
    "* Identify how to store this information most effectively"
   ]
  },
  {
   "cell_type": "markdown",
   "id": "8bf31930",
   "metadata": {},
   "source": [
    "## Create a Python script file named data_types_and_variables.py. Inside it, write some Python code, that is, variables and operators, to describe the following scenarios. Do not worry about the real operations to get the values, the goal of these exercises is to understand how real world conditions can be represented with code."
   ]
  },
  {
   "cell_type": "markdown",
   "id": "919f0147",
   "metadata": {},
   "source": [
    "1. You have rented some movies for your kids: The little mermaid (for 3 days), Brother Bear (for 5 days, they love it), and Hercules (1 day, you don't know yet if they're going to like it). If price for a movie per day is 3 dollars, how much will you have to pay?"
   ]
  },
  {
   "cell_type": "code",
   "execution_count": 1,
   "id": "07945ddb",
   "metadata": {},
   "outputs": [],
   "source": [
    "movie_price_per_day = 3\n",
    "little_mermaid = 3\n",
    "brother_bear = 5\n",
    "hercules = 1\n"
   ]
  },
  {
   "cell_type": "code",
   "execution_count": null,
   "id": "1a708e8a",
   "metadata": {},
   "outputs": [],
   "source": []
  }
 ],
 "metadata": {
  "kernelspec": {
   "display_name": "Python 3 (ipykernel)",
   "language": "python",
   "name": "python3"
  },
  "language_info": {
   "codemirror_mode": {
    "name": "ipython",
    "version": 3
   },
   "file_extension": ".py",
   "mimetype": "text/x-python",
   "name": "python",
   "nbconvert_exporter": "python",
   "pygments_lexer": "ipython3",
   "version": "3.9.12"
  }
 },
 "nbformat": 4,
 "nbformat_minor": 5
}
