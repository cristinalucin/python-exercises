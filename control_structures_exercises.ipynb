{
 "cells": [
  {
   "cell_type": "code",
   "execution_count": 1,
   "id": "f9546a0a",
   "metadata": {},
   "outputs": [
    {
     "name": "stdout",
     "output_type": "stream",
     "text": [
      "enter_day_of_the_weekmonday\n",
      "it is monday\n"
     ]
    }
   ],
   "source": [
    "day_of_the_week = input ('enter_day_of_the_week')\n",
    "\n",
    "if day_of_the_week.lower() == \"monday\":\n",
    "    print('it is monday')\n",
    "else:\n",
    "    print('it is not monday')"
   ]
  },
  {
   "cell_type": "markdown",
   "id": "18e90420",
   "metadata": {},
   "source": [
    "b. prompt the user for a day of the week, print out whether the day is a weekday or a weekend"
   ]
  },
  {
   "cell_type": "code",
   "execution_count": 2,
   "id": "57207fc2",
   "metadata": {},
   "outputs": [
    {
     "name": "stdout",
     "output_type": "stream",
     "text": [
      "enter_day_of_the_weekmonday\n",
      "It's a weekday\n"
     ]
    }
   ],
   "source": [
    "day_of_the_week = input ('enter_day_of_the_week')\n",
    "\n",
    "if day_of_the_week.lower() in ['saturday', 'sunday']:\n",
    "    print(\"It's the weekend\")\n",
    "else:\n",
    "    print(\"It's a weekday\")"
   ]
  },
  {
   "cell_type": "markdown",
   "id": "e55352f9",
   "metadata": {},
   "source": [
    "### c. create variables and make up values for:\n",
    "the number of hours worked in one week:"
   ]
  },
  {
   "cell_type": "code",
   "execution_count": 3,
   "id": "6b480856",
   "metadata": {},
   "outputs": [
    {
     "name": "stdout",
     "output_type": "stream",
     "text": [
      "2400\n"
     ]
    }
   ],
   "source": [
    "hours_worked = 40\n",
    "hourly_rate = 60\n",
    "total_paycheck = hourly_rate * hours_worked\n",
    "\n",
    "if hours_worked > 40:\n",
    "    ot_rate = hourly_rate * 1.5\n",
    "    ot_hours = hours_worked - 40\n",
    "    print((40*hourly_rate) + (ot_hours * ot_rate))\n",
    "else:\n",
    "    print(total_paycheck)\n"
   ]
  },
  {
   "cell_type": "markdown",
   "id": "f61aa3fa",
   "metadata": {},
   "source": [
    "Create an integer variable i with a value of 5."
   ]
  },
  {
   "cell_type": "code",
   "execution_count": 4,
   "id": "b7c5e91d",
   "metadata": {},
   "outputs": [],
   "source": [
    "i = 5\n"
   ]
  },
  {
   "cell_type": "markdown",
   "id": "eb7e4289",
   "metadata": {},
   "source": [
    "Create a while loop that runs so long as i is less than or equal to 15"
   ]
  },
  {
   "cell_type": "code",
   "execution_count": 5,
   "id": "a04e0c32",
   "metadata": {},
   "outputs": [
    {
     "name": "stdout",
     "output_type": "stream",
     "text": [
      "5\n",
      "6\n",
      "7\n",
      "8\n",
      "9\n",
      "10\n",
      "11\n",
      "12\n",
      "13\n",
      "14\n",
      "15\n"
     ]
    }
   ],
   "source": [
    "while i <= 15:\n",
    "    print(i)\n",
    "    i += 1"
   ]
  },
  {
   "cell_type": "markdown",
   "id": "941fe3b4",
   "metadata": {},
   "source": [
    "### Create a while loop that will count by 2's starting with 0 and ending at 100. Follow each number with a new line."
   ]
  },
  {
   "cell_type": "code",
   "execution_count": 6,
   "id": "f3ce17bb",
   "metadata": {},
   "outputs": [
    {
     "name": "stdout",
     "output_type": "stream",
     "text": [
      "0\n",
      "2\n",
      "4\n",
      "6\n",
      "8\n",
      "10\n",
      "12\n",
      "14\n",
      "16\n",
      "18\n",
      "20\n",
      "22\n",
      "24\n",
      "26\n",
      "28\n",
      "30\n",
      "32\n",
      "34\n",
      "36\n",
      "38\n",
      "40\n",
      "42\n",
      "44\n",
      "46\n",
      "48\n",
      "50\n",
      "52\n",
      "54\n",
      "56\n",
      "58\n",
      "60\n",
      "62\n",
      "64\n",
      "66\n",
      "68\n",
      "70\n",
      "72\n",
      "74\n",
      "76\n",
      "78\n",
      "80\n",
      "82\n",
      "84\n",
      "86\n",
      "88\n",
      "90\n",
      "92\n",
      "94\n",
      "96\n",
      "98\n"
     ]
    }
   ],
   "source": [
    "for n in range(100):\n",
    "    if n % 2 != 0:\n",
    "        continue\n",
    "    print(n)\n",
    "    if n > 100:\n",
    "        break"
   ]
  },
  {
   "cell_type": "markdown",
   "id": "40e1364e",
   "metadata": {},
   "source": [
    "### Alter your loop to count backwards by 5's from 100 to -10."
   ]
  },
  {
   "cell_type": "code",
   "execution_count": 10,
   "id": "75e6be23",
   "metadata": {},
   "outputs": [
    {
     "name": "stdout",
     "output_type": "stream",
     "text": [
      "100\n",
      "95\n",
      "90\n",
      "85\n",
      "80\n",
      "75\n",
      "70\n",
      "65\n",
      "60\n",
      "55\n",
      "50\n",
      "45\n",
      "40\n",
      "35\n",
      "30\n",
      "25\n",
      "20\n",
      "15\n",
      "10\n",
      "5\n",
      "0\n",
      "-5\n",
      "-10\n",
      "-15\n"
     ]
    }
   ],
   "source": [
    "for n in reversed(range(-15,105,5)):\n",
    "    print(n)\n",
    "    if n < -10:\n",
    "        break"
   ]
  },
  {
   "cell_type": "markdown",
   "id": "b461a15d",
   "metadata": {},
   "source": [
    "### Create a while loop that starts at 2, and displays the number squared on each line while the number is less than 1,000,000. Output should equal:\n",
    "     2\n",
    "     4\n",
    "     16\n",
    "     256\n",
    "     65536"
   ]
  },
  {
   "cell_type": "code",
   "execution_count": 12,
   "id": "351edfe1",
   "metadata": {},
   "outputs": [
    {
     "name": "stdout",
     "output_type": "stream",
     "text": [
      "2\n",
      "4\n",
      "16\n",
      "256\n",
      "65536\n"
     ]
    }
   ],
   "source": [
    "i = 2\n",
    "while i < 65537:\n",
    "    print(i)\n",
    "    i = i** 2"
   ]
  }
 ],
 "metadata": {
  "kernelspec": {
   "display_name": "Python 3 (ipykernel)",
   "language": "python",
   "name": "python3"
  },
  "language_info": {
   "codemirror_mode": {
    "name": "ipython",
    "version": 3
   },
   "file_extension": ".py",
   "mimetype": "text/x-python",
   "name": "python",
   "nbconvert_exporter": "python",
   "pygments_lexer": "ipython3",
   "version": "3.9.12"
  }
 },
 "nbformat": 4,
 "nbformat_minor": 5
}
