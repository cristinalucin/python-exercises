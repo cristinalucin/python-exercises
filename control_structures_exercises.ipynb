{
 "cells": [
  {
   "cell_type": "code",
   "execution_count": null,
   "id": "f9546a0a",
   "metadata": {},
   "outputs": [],
   "source": [
    "day_of_the_week = input ('enter_day_of_the_week')\n",
    "\n",
    "if day_of_the_week.lower() == \"monday\":\n",
    "    print('it is monday')\n",
    "else:\n",
    "    print('it is not monday')"
   ]
  },
  {
   "cell_type": "markdown",
   "id": "18e90420",
   "metadata": {},
   "source": [
    "b. prompt the user for a day of the week, print out whether the day is a weekday or a weekend"
   ]
  },
  {
   "cell_type": "code",
   "execution_count": null,
   "id": "57207fc2",
   "metadata": {},
   "outputs": [],
   "source": [
    "day_of_the_week = input ('enter_day_of_the_week')\n",
    "\n",
    "if day_of_the_week.lower() in ['saturday', 'sunday']:\n",
    "    print(\"It's the weekend\")\n",
    "else:\n",
    "    print(\"It's a weekday\")"
   ]
  },
  {
   "cell_type": "markdown",
   "id": "e55352f9",
   "metadata": {},
   "source": [
    "### c. create variables and make up values for:\n",
    "the number of hours worked in one week:"
   ]
  },
  {
   "cell_type": "code",
   "execution_count": null,
   "id": "6b480856",
   "metadata": {},
   "outputs": [],
   "source": [
    "hours_worked = 40\n",
    "hourly_rate = 60\n",
    "total_paycheck = hourly_rate * hours_worked\n",
    "\n",
    "if hours_worked > 40:\n",
    "    ot_rate = hourly_rate * 1.5\n",
    "    ot_hours = hours_worked - 40\n",
    "    print((40*hourly_rate) + (ot_hours * ot_rate))\n",
    "else:\n",
    "    print(total_paycheck)\n"
   ]
  },
  {
   "cell_type": "markdown",
   "id": "f61aa3fa",
   "metadata": {},
   "source": [
    "Create an integer variable i with a value of 5.\n",
    "Create a while loop that runs so long as i is less than or equal to 15\n",
    "Each loop iteration, output the current value of i, then increment i by one."
   ]
  },
  {
   "cell_type": "markdown",
   "id": "eb7e4289",
   "metadata": {},
   "source": [
    "Create a while loop that runs so long as i is less than or equal to 15"
   ]
  },
  {
   "cell_type": "code",
   "execution_count": null,
   "id": "a04e0c32",
   "metadata": {},
   "outputs": [],
   "source": [
    "i = 5\n",
    "while i <= 15:\n",
    "    print(i)\n",
    "    i += 1"
   ]
  },
  {
   "cell_type": "markdown",
   "id": "941fe3b4",
   "metadata": {},
   "source": [
    "### Create a while loop that will count by 2's starting with 0 and ending at 100. Follow each number with a new line."
   ]
  },
  {
   "cell_type": "code",
   "execution_count": null,
   "id": "f3ce17bb",
   "metadata": {},
   "outputs": [],
   "source": [
    "i = 0\n",
    "while i in range(0,100):\n",
    "    i += 2\n",
    "    print(i)"
   ]
  },
  {
   "cell_type": "markdown",
   "id": "40e1364e",
   "metadata": {},
   "source": [
    "### Alter your loop to count backwards by 5's from 100 to -10."
   ]
  },
  {
   "cell_type": "code",
   "execution_count": null,
   "id": "75e6be23",
   "metadata": {},
   "outputs": [],
   "source": [
    "##need \n",
    "for n in reversed(range(-15,105,5)):\n",
    "    print(n)\n",
    "    if n < -10:\n",
    "        break"
   ]
  },
  {
   "cell_type": "markdown",
   "id": "b461a15d",
   "metadata": {},
   "source": [
    "### Create a while loop that starts at 2, and displays the number squared on each line while the number is less than 1,000,000. Output should equal:\n",
    "     2\n",
    "     4\n",
    "     16\n",
    "     256\n",
    "     65536"
   ]
  },
  {
   "cell_type": "code",
   "execution_count": null,
   "id": "597adddf",
   "metadata": {},
   "outputs": [],
   "source": [
    "# Create a while loop that starts at 2, and displays the number squared on each line \n",
    "# while the number is less than 1,000,000. Output should equal:\n",
    "i = 2\n",
    "while i < 1_000_000:\n",
    "    print(i)\n",
    "    i = i ** 2"
   ]
  },
  {
   "cell_type": "markdown",
   "id": "ca8374af",
   "metadata": {},
   "source": [
    "### Write a loop that uses print to create the output shown below.\n",
    "\n",
    "100\n",
    "95\n",
    "90\n",
    "85\n",
    "80\n",
    "75\n",
    "70\n",
    "65\n",
    "60\n",
    "55\n",
    "50\n",
    "45\n",
    "40\n",
    "35\n",
    "30\n",
    "25\n",
    "20\n",
    "15\n",
    "10\n",
    "5"
   ]
  },
  {
   "cell_type": "code",
   "execution_count": null,
   "id": "c713fe9c",
   "metadata": {},
   "outputs": [],
   "source": [
    "i = 100\n",
    "\n",
    "while i >= 5:\n",
    "    print(i)\n",
    "    i -= 5"
   ]
  },
  {
   "cell_type": "markdown",
   "id": "e47992d9",
   "metadata": {},
   "source": [
    "### For Loops"
   ]
  },
  {
   "cell_type": "markdown",
   "id": "440fbc34",
   "metadata": {},
   "source": [
    "#### Write some code that prompts the user for a number, then shows a multiplication table up through 10 for that number."
   ]
  },
  {
   "cell_type": "code",
   "execution_count": null,
   "id": "179ae614",
   "metadata": {},
   "outputs": [],
   "source": [
    "number = int(input('Enter a number: '))\n",
    "# needs to be turned into an integer so its wrapped int()\n",
    "for i in range (1,11):\n",
    "    print(f'{number} x {i} = {number*i}')"
   ]
  },
  {
   "cell_type": "markdown",
   "id": "bb1d8258",
   "metadata": {},
   "source": [
    "#### Create a for loop that uses print to create the output shown below.\n",
    "\n",
    "1\n",
    "22\n",
    "333\n",
    "4444\n",
    "55555\n",
    "666666\n",
    "7777777\n",
    "88888888\n",
    "999999999\n"
   ]
  },
  {
   "cell_type": "code",
   "execution_count": null,
   "id": "beb825da",
   "metadata": {},
   "outputs": [],
   "source": [
    "for i in range (1,10):\n",
    "    print(str(i)*i)"
   ]
  },
  {
   "cell_type": "markdown",
   "id": "464f5946",
   "metadata": {},
   "source": [
    "### Break and Continue"
   ]
  },
  {
   "cell_type": "markdown",
   "id": "3691a43a",
   "metadata": {},
   "source": [
    "#### Write a program that prompts the user for a positive integer. Next write a loop that prints out the numbers from the number the user entered down to 1."
   ]
  },
  {
   "cell_type": "code",
   "execution_count": null,
   "id": "bf2d2528",
   "metadata": {},
   "outputs": [],
   "source": [
    "# the only way you can break a while True is break OR change a variable to false\n",
    "while True: #you have to make sure there is a break, exit condition bc this will keep running\n",
    "    user_num = input('Please enter a positive number: ')\n",
    "    \n",
    "    if user_num.isdigit():\n",
    "        print('This is a digit')\n",
    "        if int(user_num) > 0:\n",
    "            print('The number is positive!')\n",
    "            break\n",
    "    \n",
    "user_num = int(user_num)\n",
    "for i in range(user_num,0,-1):\n",
    "    print(i)"
   ]
  },
  {
   "cell_type": "markdown",
   "id": "1ad3012e",
   "metadata": {},
   "source": [
    "#### Prompt the user for an odd number between 1 and 50. Use a loop and a break statement to continue prompting the user if they enter invalid input. (Hint: use the isdigit method on strings to determine this). Use a loop and the continue statement to output all the odd numbers between 1 and 50, except for the number the user entered.\n",
    "\n",
    "Your output should look like this:\n",
    "\n",
    "Number to skip is: 27\n",
    "\n",
    "Here is an odd number: 1\n",
    "Here is an odd number: 3\n",
    "Here is an odd number: 5\n",
    "Here is an odd number: 7\n",
    "Here is an odd number: 9\n",
    "Here is an odd number: 11\n",
    "Here is an odd number: 13\n",
    "Here is an odd number: 15\n",
    "Here is an odd number: 17\n",
    "Here is an odd number: 19\n",
    "Here is an odd number: 21\n",
    "Here is an odd number: 23\n",
    "Here is an odd number: 25\n",
    "Yikes! Skipping number: 27\n",
    "Here is an odd number: 29\n",
    "Here is an odd number: 31\n",
    "Here is an odd number: 33\n",
    "Here is an odd number: 35\n",
    "Here is an odd number: 37\n",
    "Here is an odd number: 39\n",
    "Here is an odd number: 41\n",
    "Here is an odd number: 43\n",
    "Here is an odd number: 45\n",
    "Here is an odd number: 47\n",
    "Here is an odd number: 49\n"
   ]
  },
  {
   "cell_type": "code",
   "execution_count": 2,
   "id": "595289f7",
   "metadata": {},
   "outputs": [
    {
     "name": "stdout",
     "output_type": "stream",
     "text": [
      "Please enter a positive number between 1 and 50: 5\n",
      "This is a digit\n",
      "The number is odd!\n",
      "The number is between 1 and 50\n",
      "1\n",
      "3\n",
      "7\n",
      "9\n",
      "11\n",
      "13\n",
      "15\n",
      "17\n",
      "19\n",
      "21\n",
      "23\n",
      "25\n",
      "27\n",
      "29\n",
      "31\n",
      "33\n",
      "35\n",
      "37\n",
      "39\n",
      "41\n",
      "43\n",
      "45\n",
      "47\n",
      "49\n"
     ]
    }
   ],
   "source": [
    "while True: #you have to make sure there is a break, exit condition bc this will keep running\n",
    "    user_num = input('Please enter a positive number between 1 and 50: ')\n",
    "    \n",
    "    if user_num.isdigit():\n",
    "        print('This is a digit')\n",
    "        if int(user_num) % 2 != 0:\n",
    "            print('The number is odd!')\n",
    "            if (int(user_num) >1 and int(user_num) < 50):\n",
    "                print('The number is between 1 and 50')\n",
    "                break\n",
    "                \n",
    "user_num = int(user_num)\n",
    "\n",
    "for i in range(1,50):\n",
    "    if i == user_num:\n",
    "        continue\n",
    "    if i % 2 == 1:\n",
    "        print(i)"
   ]
  },
  {
   "cell_type": "markdown",
   "id": "6982e8f6",
   "metadata": {},
   "source": [
    "#### Fizzbuzz\n",
    "\n",
    "One of the most common interview questions for entry-level programmers is the FizzBuzz test. Developed by Imran Ghory, the test is designed to test basic looping and conditional logic skills."
   ]
  },
  {
   "cell_type": "markdown",
   "id": "f7d1b572",
   "metadata": {},
   "source": [
    "#### Write a program that prints the numbers from 1 to 100."
   ]
  },
  {
   "cell_type": "code",
   "execution_count": null,
   "id": "f804bb01",
   "metadata": {},
   "outputs": [],
   "source": [
    "for number in range(0, 101):\n",
    "    print(number)"
   ]
  },
  {
   "cell_type": "markdown",
   "id": "dac3b666",
   "metadata": {},
   "source": [
    "#### For multiples of three print \"Fizz\" instead of the number"
   ]
  },
  {
   "cell_type": "code",
   "execution_count": null,
   "id": "39fbb75b",
   "metadata": {},
   "outputs": [],
   "source": [
    "for number in range(1,101):\n",
    "    if number % 3 == 0:\n",
    "        print('Fizz')\n",
    "    else:\n",
    "        print(number)"
   ]
  },
  {
   "cell_type": "markdown",
   "id": "c3d1b089",
   "metadata": {},
   "source": [
    "#### For the multiples of five print \"Buzz\"."
   ]
  },
  {
   "cell_type": "markdown",
   "id": "bfe7dbdd",
   "metadata": {},
   "source": [
    "#### For numbers which are multiples of both three and five print \"FizzBuzz\"."
   ]
  },
  {
   "cell_type": "code",
   "execution_count": null,
   "id": "4dcaf9f5",
   "metadata": {},
   "outputs": [],
   "source": [
    "i = 0\n",
    "for number in range(1,101):\n",
    "    print(i)\n",
    "    i += 1\n",
    "    if i%3 == 0 and i%5 == 0:\n",
    "        print('FizzBuzz')\n",
    "        i += 1\n",
    "        continue\n",
    "    elif i %3 == 0:\n",
    "        print('Buzz')\n",
    "        i += 1\n",
    "        continue\n",
    "    elif i %5 == 0:\n",
    "        print('Fizz')\n",
    "        i += 1"
   ]
  },
  {
   "cell_type": "markdown",
   "id": "629d7a0f",
   "metadata": {},
   "source": [
    "### 4. Display a table of powers."
   ]
  },
  {
   "cell_type": "markdown",
   "id": "9d07b02a",
   "metadata": {},
   "source": [
    "#### Prompt the user to enter an integer."
   ]
  },
  {
   "cell_type": "code",
   "execution_count": null,
   "id": "6266d0ba",
   "metadata": {},
   "outputs": [],
   "source": [
    "i = int(input('Enter an integer:'))"
   ]
  },
  {
   "cell_type": "markdown",
   "id": "acd8ad22",
   "metadata": {},
   "source": [
    "#### Display a table of squares and cubes from 1 to the value entered."
   ]
  },
  {
   "cell_type": "code",
   "execution_count": null,
   "id": "4619d610",
   "metadata": {},
   "outputs": [],
   "source": [
    "i = int(input('Enter an integer: '))\n",
    "for n in range(0, i + 1):\n",
    "    print(f\"{n:3}{n**2:5}{n**3:6}\")"
   ]
  },
  {
   "cell_type": "markdown",
   "id": "1353adf6",
   "metadata": {},
   "source": [
    "#### Ask if the user wants to continue."
   ]
  },
  {
   "cell_type": "code",
   "execution_count": null,
   "id": "a8bdb6c7",
   "metadata": {},
   "outputs": [],
   "source": [
    "keep_going = True\n",
    "while True:\n",
    "    i = int(input('Enter an integer: '))\n",
    "    for n in range(0, i + 1):\n",
    "        print(f\"{n:3}{n**2:5}{n**3:6}\")\n",
    "    answer = input('Would you like to continue?').lower()\n",
    "    if answer == 'y' or answer == 'yes':\n",
    "        continue\n",
    "    else:\n",
    "        break"
   ]
  },
  {
   "cell_type": "markdown",
   "id": "407d972f",
   "metadata": {},
   "source": [
    "#### Convert given number grades into letter grades"
   ]
  },
  {
   "cell_type": "markdown",
   "id": "5b64a3d4",
   "metadata": {},
   "source": [
    "- Prompt the user for a numerical grade from 0 to 100.\n",
    "- Display the corresponding letter grade.\n",
    "- Prompt the user to continue.\n",
    "- Assume that the user will enter valid integers for the grades.\n",
    "- The application should only continue if the user agrees to.\n"
   ]
  },
  {
   "cell_type": "code",
   "execution_count": null,
   "id": "edd314a2",
   "metadata": {},
   "outputs": [],
   "source": [
    "num_grade = int(input('What is your numerical grade?'))\n",
    "\n",
    "\n"
   ]
  }
 ],
 "metadata": {
  "kernelspec": {
   "display_name": "Python 3 (ipykernel)",
   "language": "python",
   "name": "python3"
  },
  "language_info": {
   "codemirror_mode": {
    "name": "ipython",
    "version": 3
   },
   "file_extension": ".py",
   "mimetype": "text/x-python",
   "name": "python",
   "nbconvert_exporter": "python",
   "pygments_lexer": "ipython3",
   "version": "3.9.12"
  }
 },
 "nbformat": 4,
 "nbformat_minor": 5
}
