{
 "cells": [
  {
   "cell_type": "code",
   "execution_count": null,
   "id": "f9546a0a",
   "metadata": {},
   "outputs": [],
   "source": [
    "day_of_the_week = input ('enter_day_of_the_week')\n",
    "\n",
    "if day_of_the_week.lower() == \"monday\":\n",
    "    print('it is monday')\n",
    "else:\n",
    "    print('it is not monday')"
   ]
  },
  {
   "cell_type": "markdown",
   "id": "18e90420",
   "metadata": {},
   "source": [
    "b. prompt the user for a day of the week, print out whether the day is a weekday or a weekend"
   ]
  },
  {
   "cell_type": "code",
   "execution_count": null,
   "id": "57207fc2",
   "metadata": {},
   "outputs": [],
   "source": [
    "day_of_the_week = input ('enter_day_of_the_week')\n",
    "\n",
    "if day_of_the_week.lower() in ['saturday', 'sunday']:\n",
    "    print(\"It's the weekend\")\n",
    "else:\n",
    "    print(\"It's a weekday\")"
   ]
  },
  {
   "cell_type": "markdown",
   "id": "e55352f9",
   "metadata": {},
   "source": [
    "### c. create variables and make up values for:\n",
    "the number of hours worked in one week:"
   ]
  },
  {
   "cell_type": "code",
   "execution_count": null,
   "id": "6b480856",
   "metadata": {},
   "outputs": [],
   "source": [
    "hours_worked = 40\n",
    "hourly_rate = 60\n",
    "total_paycheck = hourly_rate * hours_worked\n",
    "\n",
    "if hours_worked > 40:\n",
    "    ot_rate = hourly_rate * 1.5\n",
    "    ot_hours = hours_worked - 40\n",
    "    print((40*hourly_rate) + (ot_hours * ot_rate))\n",
    "else:\n",
    "    print(total_paycheck)\n"
   ]
  },
  {
   "cell_type": "markdown",
   "id": "f61aa3fa",
   "metadata": {},
   "source": [
    "Create an integer variable i with a value of 5."
   ]
  },
  {
   "cell_type": "code",
   "execution_count": null,
   "id": "b7c5e91d",
   "metadata": {},
   "outputs": [],
   "source": [
    "i = 5\n"
   ]
  },
  {
   "cell_type": "markdown",
   "id": "eb7e4289",
   "metadata": {},
   "source": [
    "Create a while loop that runs so long as i is less than or equal to 15"
   ]
  },
  {
   "cell_type": "code",
   "execution_count": null,
   "id": "a04e0c32",
   "metadata": {},
   "outputs": [],
   "source": [
    "while i <= 15:\n",
    "    print(i)\n",
    "    i += 1"
   ]
  },
  {
   "cell_type": "markdown",
   "id": "941fe3b4",
   "metadata": {},
   "source": [
    "### Create a while loop that will count by 2's starting with 0 and ending at 100. Follow each number with a new line."
   ]
  },
  {
   "cell_type": "code",
   "execution_count": null,
   "id": "f3ce17bb",
   "metadata": {},
   "outputs": [],
   "source": [
    "for n in range(100):\n",
    "    if n % 2 != 0:\n",
    "        continue\n",
    "    print(n)\n",
    "    if n > 100:\n",
    "        break"
   ]
  },
  {
   "cell_type": "markdown",
   "id": "40e1364e",
   "metadata": {},
   "source": [
    "### Alter your loop to count backwards by 5's from 100 to -10."
   ]
  },
  {
   "cell_type": "code",
   "execution_count": null,
   "id": "75e6be23",
   "metadata": {},
   "outputs": [],
   "source": [
    "for n in reversed(range(-15,105,5)):\n",
    "    print(n)\n",
    "    if n < -10:\n",
    "        break"
   ]
  },
  {
   "cell_type": "markdown",
   "id": "b461a15d",
   "metadata": {},
   "source": [
    "### Create a while loop that starts at 2, and displays the number squared on each line while the number is less than 1,000,000. Output should equal:\n",
    "     2\n",
    "     4\n",
    "     16\n",
    "     256\n",
    "     65536"
   ]
  },
  {
   "cell_type": "code",
   "execution_count": null,
   "id": "3e653d58",
   "metadata": {},
   "outputs": [],
   "source": [
    "i = 2\n",
    "while i < 257:\n",
    "print(i)"
   ]
  },
  {
   "cell_type": "code",
   "execution_count": null,
   "id": "0c86d396",
   "metadata": {},
   "outputs": [],
   "source": []
  }
 ],
 "metadata": {
  "kernelspec": {
   "display_name": "Python 3 (ipykernel)",
   "language": "python",
   "name": "python3"
  },
  "language_info": {
   "codemirror_mode": {
    "name": "ipython",
    "version": 3
   },
   "file_extension": ".py",
   "mimetype": "text/x-python",
   "name": "python",
   "nbconvert_exporter": "python",
   "pygments_lexer": "ipython3",
   "version": "3.9.12"
  }
 },
 "nbformat": 4,
 "nbformat_minor": 5
}
