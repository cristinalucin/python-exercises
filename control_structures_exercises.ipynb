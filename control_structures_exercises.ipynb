{
 "cells": [
  {
   "cell_type": "code",
   "execution_count": 1,
   "id": "f9546a0a",
   "metadata": {},
   "outputs": [
    {
     "name": "stdout",
     "output_type": "stream",
     "text": [
      "enter_day_of_the_weekmonday\n",
      "it is monday\n"
     ]
    }
   ],
   "source": [
    "day_of_the_week = input ('enter_day_of_the_week')\n",
    "\n",
    "if day_of_the_week.lower() == \"monday\":\n",
    "    print('it is monday')\n",
    "else:\n",
    "    print('it is not monday')"
   ]
  },
  {
   "cell_type": "markdown",
   "id": "18e90420",
   "metadata": {},
   "source": [
    "b. prompt the user for a day of the week, print out whether the day is a weekday or a weekend"
   ]
  },
  {
   "cell_type": "code",
   "execution_count": 2,
   "id": "57207fc2",
   "metadata": {},
   "outputs": [
    {
     "name": "stdout",
     "output_type": "stream",
     "text": [
      "enter_day_of_the_weekmonday\n",
      "It's a weekday\n"
     ]
    }
   ],
   "source": [
    "day_of_the_week = input ('enter_day_of_the_week')\n",
    "\n",
    "if day_of_the_week.lower() in ['saturday', 'sunday']:\n",
    "    print(\"It's the weekend\")\n",
    "else:\n",
    "    print(\"It's a weekday\")"
   ]
  },
  {
   "cell_type": "markdown",
   "id": "e55352f9",
   "metadata": {},
   "source": [
    "### c. create variables and make up values for:\n",
    "the number of hours worked in one week:"
   ]
  },
  {
   "cell_type": "code",
   "execution_count": 3,
   "id": "6b480856",
   "metadata": {},
   "outputs": [
    {
     "name": "stdout",
     "output_type": "stream",
     "text": [
      "2400\n"
     ]
    }
   ],
   "source": [
    "hours_worked = 40\n",
    "hourly_rate = 60\n",
    "total_paycheck = hourly_rate * hours_worked\n",
    "\n",
    "if hours_worked > 40:\n",
    "    ot_rate = hourly_rate * 1.5\n",
    "    ot_hours = hours_worked - 40\n",
    "    print((40*hourly_rate) + (ot_hours * ot_rate))\n",
    "else:\n",
    "    print(total_paycheck)\n"
   ]
  },
  {
   "cell_type": "markdown",
   "id": "f61aa3fa",
   "metadata": {},
   "source": [
    "Create an integer variable i with a value of 5."
   ]
  },
  {
   "cell_type": "code",
   "execution_count": 4,
   "id": "b7c5e91d",
   "metadata": {},
   "outputs": [],
   "source": [
    "i = 5\n"
   ]
  },
  {
   "cell_type": "markdown",
   "id": "eb7e4289",
   "metadata": {},
   "source": [
    "Create a while loop that runs so long as i is less than or equal to 15"
   ]
  },
  {
   "cell_type": "code",
   "execution_count": 5,
   "id": "a04e0c32",
   "metadata": {},
   "outputs": [
    {
     "name": "stdout",
     "output_type": "stream",
     "text": [
      "5\n",
      "6\n",
      "7\n",
      "8\n",
      "9\n",
      "10\n",
      "11\n",
      "12\n",
      "13\n",
      "14\n",
      "15\n"
     ]
    }
   ],
   "source": [
    "while i <= 15:\n",
    "    print(i)\n",
    "    i += 1"
   ]
  },
  {
   "cell_type": "markdown",
   "id": "941fe3b4",
   "metadata": {},
   "source": [
    "### Create a while loop that will count by 2's starting with 0 and ending at 100. Follow each number with a new line."
   ]
  },
  {
   "cell_type": "code",
   "execution_count": 33,
   "id": "f3ce17bb",
   "metadata": {},
   "outputs": [
    {
     "name": "stdout",
     "output_type": "stream",
     "text": [
      "0\n",
      "2\n",
      "4\n",
      "6\n",
      "8\n",
      "10\n",
      "12\n",
      "14\n",
      "16\n",
      "18\n",
      "20\n",
      "22\n",
      "24\n",
      "26\n",
      "28\n",
      "30\n",
      "32\n",
      "34\n",
      "36\n",
      "38\n",
      "40\n",
      "42\n",
      "44\n",
      "46\n",
      "48\n",
      "50\n",
      "52\n",
      "54\n",
      "56\n",
      "58\n",
      "60\n",
      "62\n",
      "64\n",
      "66\n",
      "68\n",
      "70\n",
      "72\n",
      "74\n",
      "76\n",
      "78\n",
      "80\n",
      "82\n",
      "84\n",
      "86\n",
      "88\n",
      "90\n",
      "92\n",
      "94\n",
      "96\n",
      "98\n",
      "100\n"
     ]
    }
   ],
   "source": [
    "for n in range(102):\n",
    "    if n % 2 != 0:\n",
    "        continue\n",
    "    print(n)\n",
    "    if n > 102:\n",
    "        break"
   ]
  },
  {
   "cell_type": "markdown",
   "id": "40e1364e",
   "metadata": {},
   "source": [
    "### Alter your loop to count backwards by 5's from 100 to -10."
   ]
  },
  {
   "cell_type": "code",
   "execution_count": 10,
   "id": "75e6be23",
   "metadata": {},
   "outputs": [
    {
     "name": "stdout",
     "output_type": "stream",
     "text": [
      "100\n",
      "95\n",
      "90\n",
      "85\n",
      "80\n",
      "75\n",
      "70\n",
      "65\n",
      "60\n",
      "55\n",
      "50\n",
      "45\n",
      "40\n",
      "35\n",
      "30\n",
      "25\n",
      "20\n",
      "15\n",
      "10\n",
      "5\n",
      "0\n",
      "-5\n",
      "-10\n",
      "-15\n"
     ]
    }
   ],
   "source": [
    "for n in reversed(range(-15,105,5)):\n",
    "    print(n)\n",
    "    if n < -10:\n",
    "        break"
   ]
  },
  {
   "cell_type": "markdown",
   "id": "b461a15d",
   "metadata": {},
   "source": [
    "### Create a while loop that starts at 2, and displays the number squared on each line while the number is less than 1,000,000. Output should equal:\n",
    "     2\n",
    "     4\n",
    "     16\n",
    "     256\n",
    "     65536"
   ]
  },
  {
   "cell_type": "code",
   "execution_count": 12,
   "id": "f8ebd842",
   "metadata": {},
   "outputs": [
    {
     "name": "stdout",
     "output_type": "stream",
     "text": [
      "2\n",
      "4\n",
      "16\n",
      "256\n",
      "65536\n"
     ]
    }
   ],
   "source": [
    "i = 2\n",
    "while i < 65537:\n",
    "    print(i)\n",
    "    i = i** 2"
   ]
  },
  {
   "cell_type": "markdown",
   "id": "03838260",
   "metadata": {},
   "source": [
    "### Write a loop that uses print to create the output shown below.\n",
    "\n",
    "100\n",
    "95\n",
    "90\n",
    "85\n",
    "80\n",
    "75\n",
    "70\n",
    "65\n",
    "60\n",
    "55\n",
    "50\n",
    "45\n",
    "40\n",
    "35\n",
    "30\n",
    "25\n",
    "20\n",
    "15\n",
    "10\n",
    "5"
   ]
  },
  {
   "cell_type": "code",
   "execution_count": 18,
   "id": "b6512223",
   "metadata": {},
   "outputs": [
    {
     "name": "stdout",
     "output_type": "stream",
     "text": [
      "100\n",
      "95\n",
      "90\n",
      "85\n",
      "80\n",
      "75\n",
      "70\n",
      "65\n",
      "60\n",
      "55\n",
      "50\n",
      "45\n",
      "40\n",
      "35\n",
      "30\n",
      "25\n",
      "20\n",
      "15\n",
      "10\n",
      "5\n"
     ]
    }
   ],
   "source": [
    "for n in reversed(range(0, 105 ,5)):\n",
    "    print(n)\n",
    "    if n < 10:\n",
    "        break"
   ]
  },
  {
   "cell_type": "markdown",
   "id": "d4bd8e97",
   "metadata": {},
   "source": [
    "### For Loops"
   ]
  },
  {
   "cell_type": "markdown",
   "id": "e0976e8f",
   "metadata": {},
   "source": [
    "#### Write some code that prompts the user for a number, then shows a multiplication table up through 10 for that number."
   ]
  },
  {
   "cell_type": "code",
   "execution_count": 20,
   "id": "f0bb61e2",
   "metadata": {},
   "outputs": [
    {
     "name": "stdout",
     "output_type": "stream",
     "text": [
      "enter a number:5\n",
      "5 x 1 = 5\n",
      "5 x 2 = 55\n",
      "5 x 3 = 555\n",
      "5 x 4 = 5555\n",
      "5 x 5 = 55555\n",
      "5 x 6 = 555555\n",
      "5 x 7 = 5555555\n",
      "5 x 8 = 55555555\n",
      "5 x 9 = 555555555\n",
      "5 x 10 = 5555555555\n"
     ]
    }
   ],
   "source": [
    "number = input(\"enter a number:\")\n",
    "\n",
    "for i in range (1,11):\n",
    "    print(number, 'x', i, '=', number*i)"
   ]
  },
  {
   "cell_type": "markdown",
   "id": "c28194e0",
   "metadata": {},
   "source": [
    "#### Create a for loop that uses print to create the output shown below.\n",
    "\n",
    "1\n",
    "22\n",
    "333\n",
    "4444\n",
    "55555\n",
    "666666\n",
    "7777777\n",
    "88888888\n",
    "999999999\n"
   ]
  },
  {
   "cell_type": "code",
   "execution_count": 24,
   "id": "64d5068c",
   "metadata": {},
   "outputs": [
    {
     "name": "stdout",
     "output_type": "stream",
     "text": [
      "1\n",
      "22\n",
      "333\n",
      "4444\n",
      "55555\n",
      "666666\n",
      "7777777\n",
      "88888888\n",
      "999999999\n"
     ]
    }
   ],
   "source": [
    "for i in range (1,10):\n",
    "    print(str(i)*i)"
   ]
  },
  {
   "cell_type": "markdown",
   "id": "4a519c55",
   "metadata": {},
   "source": [
    "### Break and Continue"
   ]
  },
  {
   "cell_type": "markdown",
   "id": "6ae1c4f5",
   "metadata": {},
   "source": [
    "#### Write a program that prompts the user for a positive integer. Next write a loop that prints out the numbers from the number the user entered down to 1."
   ]
  },
  {
   "cell_type": "code",
   "execution_count": 43,
   "id": "e26ee298",
   "metadata": {},
   "outputs": [
    {
     "name": "stdout",
     "output_type": "stream",
     "text": [
      "Enter a positive integer:5\n",
      "5\n",
      "4\n",
      "3\n",
      "2\n",
      "1\n"
     ]
    }
   ],
   "source": [
    "positive_int = int(input('Enter a positive integer:'))\n",
    "\n",
    "while positive_int > 0:\n",
    "    print(positive_int)\n",
    "    positive_int -= 1\n",
    "    if positive_int < 1:\n",
    "        break"
   ]
  },
  {
   "cell_type": "markdown",
   "id": "0afa19b7",
   "metadata": {},
   "source": [
    "#### Prompt the user for an odd number between 1 and 50. Use a loop and a break statement to continue prompting the user if they enter invalid input. (Hint: use the isdigit method on strings to determine this). Use a loop and the continue statement to output all the odd numbers between 1 and 50, except for the number the user entered.\n",
    "\n",
    "Your output should look like this:\n",
    "\n",
    "Number to skip is: 27\n",
    "\n",
    "Here is an odd number: 1\n",
    "Here is an odd number: 3\n",
    "Here is an odd number: 5\n",
    "Here is an odd number: 7\n",
    "Here is an odd number: 9\n",
    "Here is an odd number: 11\n",
    "Here is an odd number: 13\n",
    "Here is an odd number: 15\n",
    "Here is an odd number: 17\n",
    "Here is an odd number: 19\n",
    "Here is an odd number: 21\n",
    "Here is an odd number: 23\n",
    "Here is an odd number: 25\n",
    "Yikes! Skipping number: 27\n",
    "Here is an odd number: 29\n",
    "Here is an odd number: 31\n",
    "Here is an odd number: 33\n",
    "Here is an odd number: 35\n",
    "Here is an odd number: 37\n",
    "Here is an odd number: 39\n",
    "Here is an odd number: 41\n",
    "Here is an odd number: 43\n",
    "Here is an odd number: 45\n",
    "Here is an odd number: 47\n",
    "Here is an odd number: 49\n"
   ]
  },
  {
   "cell_type": "code",
   "execution_count": 56,
   "id": "450cbc8e",
   "metadata": {},
   "outputs": [
    {
     "name": "stdout",
     "output_type": "stream",
     "text": [
      "Enter an odd number between: 25\n",
      "Here is an odd number: 1\n",
      "Here is an odd number: 3\n",
      "Here is an odd number: 5\n",
      "Here is an odd number: 7\n",
      "Here is an odd number: 9\n",
      "Here is an odd number: 11\n",
      "Here is an odd number: 13\n",
      "Here is an odd number: 15\n",
      "Here is an odd number: 17\n",
      "Here is an odd number: 19\n",
      "Here is an odd number: 21\n",
      "Here is an odd number: 23\n",
      "Yikes! Skipping number: 25\n",
      "Here is an odd number: 27\n",
      "Here is an odd number: 29\n",
      "Here is an odd number: 31\n",
      "Here is an odd number: 33\n",
      "Here is an odd number: 35\n",
      "Here is an odd number: 37\n",
      "Here is an odd number: 39\n",
      "Here is an odd number: 41\n",
      "Here is an odd number: 43\n",
      "Here is an odd number: 45\n",
      "Here is an odd number: 47\n",
      "Here is an odd number: 49\n"
     ]
    }
   ],
   "source": [
    "wrong_input = True\n",
    "number = 0\n",
    "while wrong_input:\n",
    "    user_input = input('Enter an odd number between: ')\n",
    "    if user_input.isdigit():\n",
    "        number = int(user_input)\n",
    "        if number % 2 == 1 or number <= 0:\n",
    "            wrong_input = False\n",
    "        else:\n",
    "            wrong_input = True\n",
    "\n",
    "for i in range(1, 50, 2):\n",
    "    if i == number:\n",
    "        print(f'Yikes! Skipping number: {i}')\n",
    "        continue\n",
    "    print(f'Here is an odd number: {i}')"
   ]
  },
  {
   "cell_type": "markdown",
   "id": "3a66f3ab",
   "metadata": {},
   "source": [
    "#### Fizzbuzz\n",
    "\n",
    "One of the most common interview questions for entry-level programmers is the FizzBuzz test. Developed by Imran Ghory, the test is designed to test basic looping and conditional logic skills."
   ]
  },
  {
   "cell_type": "markdown",
   "id": "9176ec90",
   "metadata": {},
   "source": [
    "#### Write a program that prints the numbers from 1 to 100."
   ]
  },
  {
   "cell_type": "code",
   "execution_count": 58,
   "id": "57b4cb60",
   "metadata": {},
   "outputs": [
    {
     "name": "stdout",
     "output_type": "stream",
     "text": [
      "0\n",
      "1\n",
      "2\n",
      "3\n",
      "4\n",
      "5\n",
      "6\n",
      "7\n",
      "8\n",
      "9\n",
      "10\n",
      "11\n",
      "12\n",
      "13\n",
      "14\n",
      "15\n",
      "16\n",
      "17\n",
      "18\n",
      "19\n",
      "20\n",
      "21\n",
      "22\n",
      "23\n",
      "24\n",
      "25\n",
      "26\n",
      "27\n",
      "28\n",
      "29\n",
      "30\n",
      "31\n",
      "32\n",
      "33\n",
      "34\n",
      "35\n",
      "36\n",
      "37\n",
      "38\n",
      "39\n",
      "40\n",
      "41\n",
      "42\n",
      "43\n",
      "44\n",
      "45\n",
      "46\n",
      "47\n",
      "48\n",
      "49\n",
      "50\n",
      "51\n",
      "52\n",
      "53\n",
      "54\n",
      "55\n",
      "56\n",
      "57\n",
      "58\n",
      "59\n",
      "60\n",
      "61\n",
      "62\n",
      "63\n",
      "64\n",
      "65\n",
      "66\n",
      "67\n",
      "68\n",
      "69\n",
      "70\n",
      "71\n",
      "72\n",
      "73\n",
      "74\n",
      "75\n",
      "76\n",
      "77\n",
      "78\n",
      "79\n",
      "80\n",
      "81\n",
      "82\n",
      "83\n",
      "84\n",
      "85\n",
      "86\n",
      "87\n",
      "88\n",
      "89\n",
      "90\n",
      "91\n",
      "92\n",
      "93\n",
      "94\n",
      "95\n",
      "96\n",
      "97\n",
      "98\n",
      "99\n",
      "100\n"
     ]
    }
   ],
   "source": [
    "for number in range(0, 101):\n",
    "    print(number)"
   ]
  },
  {
   "cell_type": "markdown",
   "id": "63e0c49c",
   "metadata": {},
   "source": [
    "#### For multiples of three print \"Fizz\" instead of the number"
   ]
  },
  {
   "cell_type": "code",
   "execution_count": 61,
   "id": "69a9adca",
   "metadata": {},
   "outputs": [
    {
     "name": "stdout",
     "output_type": "stream",
     "text": [
      "Fizz\n",
      "1\n",
      "2\n",
      "Fizz\n",
      "4\n",
      "5\n",
      "Fizz\n",
      "7\n",
      "8\n",
      "Fizz\n",
      "10\n",
      "11\n",
      "Fizz\n",
      "13\n",
      "14\n",
      "Fizz\n",
      "16\n",
      "17\n",
      "Fizz\n",
      "19\n",
      "20\n",
      "Fizz\n",
      "22\n",
      "23\n",
      "Fizz\n",
      "25\n",
      "26\n",
      "Fizz\n",
      "28\n",
      "29\n",
      "Fizz\n",
      "31\n",
      "32\n",
      "Fizz\n",
      "34\n",
      "35\n",
      "Fizz\n",
      "37\n",
      "38\n",
      "Fizz\n",
      "40\n",
      "41\n",
      "Fizz\n",
      "43\n",
      "44\n",
      "Fizz\n",
      "46\n",
      "47\n",
      "Fizz\n",
      "49\n",
      "50\n",
      "Fizz\n",
      "52\n",
      "53\n",
      "Fizz\n",
      "55\n",
      "56\n",
      "Fizz\n",
      "58\n",
      "59\n",
      "Fizz\n",
      "61\n",
      "62\n",
      "Fizz\n",
      "64\n",
      "65\n",
      "Fizz\n",
      "67\n",
      "68\n",
      "Fizz\n",
      "70\n",
      "71\n",
      "Fizz\n",
      "73\n",
      "74\n",
      "Fizz\n",
      "76\n",
      "77\n",
      "Fizz\n",
      "79\n",
      "80\n",
      "Fizz\n",
      "82\n",
      "83\n",
      "Fizz\n",
      "85\n",
      "86\n",
      "Fizz\n",
      "88\n",
      "89\n",
      "Fizz\n",
      "91\n",
      "92\n",
      "Fizz\n",
      "94\n",
      "95\n",
      "Fizz\n",
      "97\n",
      "98\n",
      "Fizz\n",
      "100\n"
     ]
    }
   ],
   "source": [
    "for number in range(1,101):\n",
    "    if number % 3 == 0:\n",
    "        print('Fizz')\n",
    "    else:\n",
    "        print(number)"
   ]
  },
  {
   "cell_type": "markdown",
   "id": "b13f4284",
   "metadata": {},
   "source": [
    "#### For the multiples of five print \"Buzz\"."
   ]
  },
  {
   "cell_type": "markdown",
   "id": "8cb745dc",
   "metadata": {},
   "source": [
    "#### For numbers which are multiples of both three and five print \"FizzBuzz\"."
   ]
  },
  {
   "cell_type": "code",
   "execution_count": 90,
   "id": "8d82eee5",
   "metadata": {},
   "outputs": [
    {
     "name": "stdout",
     "output_type": "stream",
     "text": [
      "0\n",
      "1\n",
      "2\n",
      "Buzz\n",
      "4\n",
      "Fizz\n",
      "6\n",
      "7\n",
      "8\n",
      "Buzz\n",
      "10\n",
      "11\n",
      "Buzz\n",
      "13\n",
      "14\n",
      "FizzBuzz\n",
      "16\n",
      "17\n",
      "Buzz\n",
      "19\n",
      "Fizz\n",
      "21\n",
      "22\n",
      "23\n",
      "Buzz\n",
      "25\n",
      "26\n",
      "Buzz\n",
      "28\n",
      "29\n",
      "FizzBuzz\n",
      "31\n",
      "32\n",
      "Buzz\n",
      "34\n",
      "Fizz\n",
      "36\n",
      "37\n",
      "38\n",
      "Buzz\n",
      "40\n",
      "41\n",
      "Buzz\n",
      "43\n",
      "44\n",
      "FizzBuzz\n",
      "46\n",
      "47\n",
      "Buzz\n",
      "49\n",
      "Fizz\n",
      "51\n",
      "52\n",
      "53\n",
      "Buzz\n",
      "55\n",
      "56\n",
      "Buzz\n",
      "58\n",
      "59\n",
      "FizzBuzz\n",
      "61\n",
      "62\n",
      "Buzz\n",
      "64\n",
      "Fizz\n",
      "66\n",
      "67\n",
      "68\n",
      "Buzz\n",
      "70\n",
      "71\n",
      "Buzz\n",
      "73\n",
      "74\n",
      "FizzBuzz\n",
      "76\n",
      "77\n",
      "Buzz\n",
      "79\n",
      "Fizz\n",
      "81\n",
      "82\n",
      "83\n",
      "Buzz\n",
      "85\n",
      "86\n",
      "Buzz\n",
      "88\n",
      "89\n",
      "FizzBuzz\n",
      "91\n",
      "92\n",
      "Buzz\n",
      "94\n",
      "Fizz\n",
      "96\n",
      "97\n",
      "98\n",
      "Buzz\n",
      "100\n",
      "101\n",
      "Buzz\n",
      "103\n",
      "104\n",
      "FizzBuzz\n",
      "106\n",
      "107\n",
      "Buzz\n",
      "109\n",
      "Fizz\n",
      "111\n",
      "112\n",
      "113\n",
      "Buzz\n",
      "115\n",
      "116\n",
      "Buzz\n",
      "118\n",
      "119\n",
      "FizzBuzz\n",
      "121\n",
      "122\n",
      "Buzz\n",
      "124\n",
      "Fizz\n",
      "126\n",
      "127\n",
      "128\n",
      "Buzz\n",
      "130\n",
      "131\n",
      "Buzz\n",
      "133\n",
      "134\n",
      "FizzBuzz\n",
      "136\n",
      "137\n",
      "Buzz\n",
      "139\n",
      "Fizz\n",
      "141\n",
      "142\n",
      "143\n",
      "Buzz\n",
      "145\n",
      "146\n",
      "Buzz\n",
      "148\n"
     ]
    }
   ],
   "source": [
    "i = 0\n",
    "for number in range(1,101):\n",
    "    print(i)\n",
    "    i += 1\n",
    "    if i%3 == 0 and i%5 == 0:\n",
    "        print('FizzBuzz')\n",
    "        i += 1\n",
    "        continue\n",
    "    elif i %3 == 0:\n",
    "        print('Buzz')\n",
    "        i += 1\n",
    "        continue\n",
    "    elif i %5 == 0:\n",
    "        print('Fizz')\n",
    "        i += 1"
   ]
  },
  {
   "cell_type": "markdown",
   "id": "8167e5fb",
   "metadata": {},
   "source": [
    "### 4. Display a table of powers."
   ]
  },
  {
   "cell_type": "markdown",
   "id": "b2dbaa2c",
   "metadata": {},
   "source": [
    "#### Prompt the user to enter an integer."
   ]
  },
  {
   "cell_type": "code",
   "execution_count": 66,
   "id": "ed9b86a9",
   "metadata": {},
   "outputs": [
    {
     "name": "stdout",
     "output_type": "stream",
     "text": [
      "Enter an integer:5\n"
     ]
    }
   ],
   "source": [
    "i = int(input('Enter an integer:'))"
   ]
  },
  {
   "cell_type": "markdown",
   "id": "1993f58e",
   "metadata": {},
   "source": [
    "#### Display a table of squares and cubes from 1 to the value entered."
   ]
  },
  {
   "cell_type": "code",
   "execution_count": 95,
   "id": "f864531e",
   "metadata": {},
   "outputs": [
    {
     "name": "stdout",
     "output_type": "stream",
     "text": [
      "Enter an integer: 5\n",
      "  0    0     0\n",
      "  1    1     1\n",
      "  2    4     8\n",
      "  3    9    27\n",
      "  4   16    64\n",
      "  5   25   125\n"
     ]
    }
   ],
   "source": [
    "i = int(input('Enter an integer: '))\n",
    "for n in range(0, i + 1):\n",
    "    print(f\"{n:3}{n**2:5}{n**3:6}\")"
   ]
  },
  {
   "cell_type": "markdown",
   "id": "d8125545",
   "metadata": {},
   "source": [
    "#### Ask if the user wants to continue."
   ]
  },
  {
   "cell_type": "code",
   "execution_count": 100,
   "id": "7f49c3ea",
   "metadata": {},
   "outputs": [
    {
     "name": "stdout",
     "output_type": "stream",
     "text": [
      "Enter an integer: 5\n",
      "  0    0     0\n",
      "  1    1     1\n",
      "  2    4     8\n",
      "  3    9    27\n",
      "  4   16    64\n",
      "  5   25   125\n",
      "Do you want to continue?yes\n"
     ]
    }
   ],
   "source": [
    "i = int(input('Enter an integer: '))\n",
    "for n in range(0, i + 1):\n",
    "    print(f\"{n:3}{n**2:5}{n**3:6}\")\n",
    "keep_going = input(\"Do you want to continue?\")\n",
    "    if keep_going = 'yes' or 'Yes' or 'YES':\n",
    "        i = int(input('Enter an integer:'))\n",
    "        for n in range(0, i + 1):\n",
    "            print(f\"{n:3}{n**2:5}{n**3:6}\")\n",
    "        break\n",
    "        "
   ]
  },
  {
   "cell_type": "markdown",
   "id": "67e3d68a",
   "metadata": {},
   "source": [
    "#### Convert given number grades into letter grades"
   ]
  },
  {
   "cell_type": "markdown",
   "id": "5f67f633",
   "metadata": {},
   "source": [
    "- Prompt the user for a numerical grade from 0 to 100.\n",
    "- Display the corresponding letter grade.\n",
    "- Prompt the user to continue.\n",
    "- Assume that the user will enter valid integers for the grades.\n",
    "- The application should only continue if the user agrees to.\n"
   ]
  },
  {
   "cell_type": "code",
   "execution_count": 77,
   "id": "bc504a28",
   "metadata": {},
   "outputs": [
    {
     "ename": "SyntaxError",
     "evalue": "invalid syntax (2276696339.py, line 3)",
     "output_type": "error",
     "traceback": [
      "\u001b[0;36m  Input \u001b[0;32mIn [77]\u001b[0;36m\u001b[0m\n\u001b[0;31m    if num_grade >= 88 and <= 100:\u001b[0m\n\u001b[0m                           ^\u001b[0m\n\u001b[0;31mSyntaxError\u001b[0m\u001b[0;31m:\u001b[0m invalid syntax\n"
     ]
    }
   ],
   "source": [
    "num_grade = int(input('What is your numerical grade?'))\n",
    "\n",
    "\n"
   ]
  }
 ],
 "metadata": {
  "kernelspec": {
   "display_name": "Python 3 (ipykernel)",
   "language": "python",
   "name": "python3"
  },
  "language_info": {
   "codemirror_mode": {
    "name": "ipython",
    "version": 3
   },
   "file_extension": ".py",
   "mimetype": "text/x-python",
   "name": "python",
   "nbconvert_exporter": "python",
   "pygments_lexer": "ipython3",
   "version": "3.9.12"
  }
 },
 "nbformat": 4,
 "nbformat_minor": 5
}
