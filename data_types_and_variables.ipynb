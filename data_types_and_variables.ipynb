{
 "cells": [
  {
   "cell_type": "markdown",
   "id": "6ddd04a5",
   "metadata": {},
   "source": [
    "# Exercises\n",
    "\n",
    "Identify the data type of the following values:"
   ]
  },
  {
   "cell_type": "code",
   "execution_count": 1,
   "id": "0043aada",
   "metadata": {},
   "outputs": [
    {
     "data": {
      "text/plain": [
       "float"
      ]
     },
     "execution_count": 1,
     "metadata": {},
     "output_type": "execute_result"
    }
   ],
   "source": [
    "type(99.9)"
   ]
  },
  {
   "cell_type": "code",
   "execution_count": 2,
   "id": "ebd23ebb",
   "metadata": {},
   "outputs": [
    {
     "data": {
      "text/plain": [
       "str"
      ]
     },
     "execution_count": 2,
     "metadata": {},
     "output_type": "execute_result"
    }
   ],
   "source": [
    "type(\"False\")"
   ]
  },
  {
   "cell_type": "code",
   "execution_count": 3,
   "id": "de484cae",
   "metadata": {},
   "outputs": [
    {
     "data": {
      "text/plain": [
       "bool"
      ]
     },
     "execution_count": 3,
     "metadata": {},
     "output_type": "execute_result"
    }
   ],
   "source": [
    "type(False)"
   ]
  },
  {
   "cell_type": "code",
   "execution_count": 4,
   "id": "f62bcb39",
   "metadata": {},
   "outputs": [
    {
     "data": {
      "text/plain": [
       "str"
      ]
     },
     "execution_count": 4,
     "metadata": {},
     "output_type": "execute_result"
    }
   ],
   "source": [
    "type('0')"
   ]
  },
  {
   "cell_type": "code",
   "execution_count": 5,
   "id": "e6e2c3f3",
   "metadata": {},
   "outputs": [
    {
     "data": {
      "text/plain": [
       "int"
      ]
     },
     "execution_count": 5,
     "metadata": {},
     "output_type": "execute_result"
    }
   ],
   "source": [
    "type(0)"
   ]
  },
  {
   "cell_type": "code",
   "execution_count": 6,
   "id": "3658fb5e",
   "metadata": {},
   "outputs": [
    {
     "data": {
      "text/plain": [
       "str"
      ]
     },
     "execution_count": 6,
     "metadata": {},
     "output_type": "execute_result"
    }
   ],
   "source": [
    "type('true')"
   ]
  },
  {
   "cell_type": "code",
   "execution_count": 8,
   "id": "1bdddef8",
   "metadata": {},
   "outputs": [
    {
     "data": {
      "text/plain": [
       "bool"
      ]
     },
     "execution_count": 8,
     "metadata": {},
     "output_type": "execute_result"
    }
   ],
   "source": [
    "type(True)"
   ]
  },
  {
   "cell_type": "code",
   "execution_count": 9,
   "id": "85caf6a6",
   "metadata": {},
   "outputs": [
    {
     "data": {
      "text/plain": [
       "list"
      ]
     },
     "execution_count": 9,
     "metadata": {},
     "output_type": "execute_result"
    }
   ],
   "source": [
    "type([{}])"
   ]
  },
  {
   "cell_type": "code",
   "execution_count": 10,
   "id": "9f3db5b5",
   "metadata": {},
   "outputs": [
    {
     "data": {
      "text/plain": [
       "dict"
      ]
     },
     "execution_count": 10,
     "metadata": {},
     "output_type": "execute_result"
    }
   ],
   "source": [
    "type({'a': []})"
   ]
  },
  {
   "cell_type": "markdown",
   "id": "fcf025d3",
   "metadata": {},
   "source": [
    "### What data type would best represent:"
   ]
  },
  {
   "cell_type": "markdown",
   "id": "d0f0b07f",
   "metadata": {},
   "source": [
    "A term or phrase typed into a search box?\n",
    "- A string\n",
    "If a user is logged in?\n",
    "- boolean\n",
    "A discount amount to apply to a user's shopping cart?\n",
    "- float\n",
    "Whether or not a coupon code is valid?\n",
    "- boolean\n",
    "An email address typed into a registration form?\n",
    "- String\n",
    "The price of a product?\n",
    "- Int or Float\n",
    "A Matrix?\n",
    "- dictionary\n",
    "The email addresses collected from a registration form?\n",
    "- List\n",
    "Information about applicants to Codeup's data science program?\n",
    "- Dictionary"
   ]
  },
  {
   "cell_type": "markdown",
   "id": "7eef0b6b",
   "metadata": {},
   "source": [
    "## For each of the following code blocks, read the expression and predict what the result of evaluating it would be, then execute the expression in your Python REPL."
   ]
  },
  {
   "cell_type": "code",
   "execution_count": 11,
   "id": "a78cb183",
   "metadata": {},
   "outputs": [
    {
     "ename": "TypeError",
     "evalue": "can only concatenate str (not \"int\") to str",
     "output_type": "error",
     "traceback": [
      "\u001b[0;31m---------------------------------------------------------------------------\u001b[0m",
      "\u001b[0;31mTypeError\u001b[0m                                 Traceback (most recent call last)",
      "Input \u001b[0;32mIn [11]\u001b[0m, in \u001b[0;36m<cell line: 1>\u001b[0;34m()\u001b[0m\n\u001b[0;32m----> 1\u001b[0m \u001b[38;5;124;43m'\u001b[39;49m\u001b[38;5;124;43m1\u001b[39;49m\u001b[38;5;124;43m'\u001b[39;49m\u001b[43m \u001b[49m\u001b[38;5;241;43m+\u001b[39;49m\u001b[43m \u001b[49m\u001b[38;5;241;43m2\u001b[39;49m\n",
      "\u001b[0;31mTypeError\u001b[0m: can only concatenate str (not \"int\") to str"
     ]
    }
   ],
   "source": [
    "'1' + 2"
   ]
  },
  {
   "cell_type": "code",
   "execution_count": 12,
   "id": "66842007",
   "metadata": {},
   "outputs": [
    {
     "data": {
      "text/plain": [
       "2"
      ]
     },
     "execution_count": 12,
     "metadata": {},
     "output_type": "execute_result"
    }
   ],
   "source": [
    "6 % 4"
   ]
  },
  {
   "cell_type": "code",
   "execution_count": 13,
   "id": "19baecc9",
   "metadata": {},
   "outputs": [
    {
     "data": {
      "text/plain": [
       "int"
      ]
     },
     "execution_count": 13,
     "metadata": {},
     "output_type": "execute_result"
    }
   ],
   "source": [
    "type(6 % 4)"
   ]
  },
  {
   "cell_type": "code",
   "execution_count": 14,
   "id": "ae2b4f0f",
   "metadata": {},
   "outputs": [
    {
     "data": {
      "text/plain": [
       "type"
      ]
     },
     "execution_count": 14,
     "metadata": {},
     "output_type": "execute_result"
    }
   ],
   "source": [
    "type(type(6 % 4))"
   ]
  },
  {
   "cell_type": "code",
   "execution_count": 16,
   "id": "cda313a9",
   "metadata": {},
   "outputs": [
    {
     "ename": "TypeError",
     "evalue": "can only concatenate str (not \"int\") to str",
     "output_type": "error",
     "traceback": [
      "\u001b[0;31m---------------------------------------------------------------------------\u001b[0m",
      "\u001b[0;31mTypeError\u001b[0m                                 Traceback (most recent call last)",
      "Input \u001b[0;32mIn [16]\u001b[0m, in \u001b[0;36m<cell line: 1>\u001b[0;34m()\u001b[0m\n\u001b[0;32m----> 1\u001b[0m \u001b[38;5;124;43m'\u001b[39;49m\u001b[38;5;124;43m3 + 4 is \u001b[39;49m\u001b[38;5;124;43m'\u001b[39;49m\u001b[43m \u001b[49m\u001b[38;5;241;43m+\u001b[39;49m\u001b[43m \u001b[49m\u001b[38;5;241;43m3\u001b[39;49m \u001b[38;5;241m+\u001b[39m \u001b[38;5;241m4\u001b[39m\n",
      "\u001b[0;31mTypeError\u001b[0m: can only concatenate str (not \"int\") to str"
     ]
    }
   ],
   "source": [
    "'3 + 4 is ' + 3 + 4"
   ]
  },
  {
   "cell_type": "code",
   "execution_count": 17,
   "id": "5a3e210a",
   "metadata": {},
   "outputs": [
    {
     "data": {
      "text/plain": [
       "False"
      ]
     },
     "execution_count": 17,
     "metadata": {},
     "output_type": "execute_result"
    }
   ],
   "source": [
    "0 < 0"
   ]
  },
  {
   "cell_type": "code",
   "execution_count": 18,
   "id": "2d66ffd8",
   "metadata": {},
   "outputs": [
    {
     "data": {
      "text/plain": [
       "False"
      ]
     },
     "execution_count": 18,
     "metadata": {},
     "output_type": "execute_result"
    }
   ],
   "source": [
    "'False' == False"
   ]
  },
  {
   "cell_type": "code",
   "execution_count": 19,
   "id": "a6735863",
   "metadata": {},
   "outputs": [
    {
     "data": {
      "text/plain": [
       "False"
      ]
     },
     "execution_count": 19,
     "metadata": {},
     "output_type": "execute_result"
    }
   ],
   "source": [
    "True == 'True'"
   ]
  },
  {
   "cell_type": "code",
   "execution_count": 20,
   "id": "d4f87ebf",
   "metadata": {},
   "outputs": [
    {
     "data": {
      "text/plain": [
       "True"
      ]
     },
     "execution_count": 20,
     "metadata": {},
     "output_type": "execute_result"
    }
   ],
   "source": [
    "5 >= -5"
   ]
  },
  {
   "cell_type": "code",
   "execution_count": 21,
   "id": "3afa1ddd",
   "metadata": {},
   "outputs": [
    {
     "data": {
      "text/plain": [
       "True"
      ]
     },
     "execution_count": 21,
     "metadata": {},
     "output_type": "execute_result"
    }
   ],
   "source": [
    "True or \"42\""
   ]
  },
  {
   "cell_type": "code",
   "execution_count": 22,
   "id": "825e1cc2",
   "metadata": {},
   "outputs": [
    {
     "data": {
      "text/plain": [
       "1"
      ]
     },
     "execution_count": 22,
     "metadata": {},
     "output_type": "execute_result"
    }
   ],
   "source": [
    "6 % 5"
   ]
  },
  {
   "cell_type": "code",
   "execution_count": 23,
   "id": "724bc29a",
   "metadata": {},
   "outputs": [
    {
     "data": {
      "text/plain": [
       "False"
      ]
     },
     "execution_count": 23,
     "metadata": {},
     "output_type": "execute_result"
    }
   ],
   "source": [
    "5 < 4 and 1 == 1"
   ]
  },
  {
   "cell_type": "code",
   "execution_count": 24,
   "id": "be058742",
   "metadata": {},
   "outputs": [
    {
     "data": {
      "text/plain": [
       "False"
      ]
     },
     "execution_count": 24,
     "metadata": {},
     "output_type": "execute_result"
    }
   ],
   "source": [
    "'codeup' == 'codeup' and 'codeup' == 'Codeup'"
   ]
  },
  {
   "cell_type": "code",
   "execution_count": 26,
   "id": "a4359839",
   "metadata": {},
   "outputs": [
    {
     "ename": "SyntaxError",
     "evalue": "invalid syntax (383778220.py, line 1)",
     "output_type": "error",
     "traceback": [
      "\u001b[0;36m  Input \u001b[0;32mIn [26]\u001b[0;36m\u001b[0m\n\u001b[0;31m    4 >= 0 and 1 !== '1'\u001b[0m\n\u001b[0m                   ^\u001b[0m\n\u001b[0;31mSyntaxError\u001b[0m\u001b[0;31m:\u001b[0m invalid syntax\n"
     ]
    }
   ],
   "source": [
    "4 >= 0 and 1 !== '1'"
   ]
  },
  {
   "cell_type": "code",
   "execution_count": 27,
   "id": "c32e01bd",
   "metadata": {},
   "outputs": [
    {
     "ename": "SyntaxError",
     "evalue": "invalid syntax (383778220.py, line 1)",
     "output_type": "error",
     "traceback": [
      "\u001b[0;36m  Input \u001b[0;32mIn [27]\u001b[0;36m\u001b[0m\n\u001b[0;31m    4 >= 0 and 1 !== '1'\u001b[0m\n\u001b[0m                   ^\u001b[0m\n\u001b[0;31mSyntaxError\u001b[0m\u001b[0;31m:\u001b[0m invalid syntax\n"
     ]
    }
   ],
   "source": [
    "4 >= 0 and 1 !== '1'"
   ]
  },
  {
   "cell_type": "code",
   "execution_count": 28,
   "id": "82e36a10",
   "metadata": {},
   "outputs": [
    {
     "data": {
      "text/plain": [
       "True"
      ]
     },
     "execution_count": 28,
     "metadata": {},
     "output_type": "execute_result"
    }
   ],
   "source": [
    "6 % 3 == 0"
   ]
  },
  {
   "cell_type": "code",
   "execution_count": 29,
   "id": "522d3393",
   "metadata": {},
   "outputs": [
    {
     "data": {
      "text/plain": [
       "True"
      ]
     },
     "execution_count": 29,
     "metadata": {},
     "output_type": "execute_result"
    }
   ],
   "source": [
    "5 % 2 != 0"
   ]
  },
  {
   "cell_type": "code",
   "execution_count": 30,
   "id": "5bc1a45d",
   "metadata": {},
   "outputs": [
    {
     "ename": "TypeError",
     "evalue": "can only concatenate list (not \"int\") to list",
     "output_type": "error",
     "traceback": [
      "\u001b[0;31m---------------------------------------------------------------------------\u001b[0m",
      "\u001b[0;31mTypeError\u001b[0m                                 Traceback (most recent call last)",
      "Input \u001b[0;32mIn [30]\u001b[0m, in \u001b[0;36m<cell line: 1>\u001b[0;34m()\u001b[0m\n\u001b[0;32m----> 1\u001b[0m \u001b[43m[\u001b[49m\u001b[38;5;241;43m1\u001b[39;49m\u001b[43m]\u001b[49m\u001b[43m \u001b[49m\u001b[38;5;241;43m+\u001b[39;49m\u001b[43m \u001b[49m\u001b[38;5;241;43m2\u001b[39;49m\n",
      "\u001b[0;31mTypeError\u001b[0m: can only concatenate list (not \"int\") to list"
     ]
    }
   ],
   "source": [
    "[1] + 2"
   ]
  },
  {
   "cell_type": "code",
   "execution_count": 31,
   "id": "58bbb767",
   "metadata": {},
   "outputs": [
    {
     "data": {
      "text/plain": [
       "[1, 2]"
      ]
     },
     "execution_count": 31,
     "metadata": {},
     "output_type": "execute_result"
    }
   ],
   "source": [
    "[1] + [2]"
   ]
  },
  {
   "cell_type": "code",
   "execution_count": 32,
   "id": "6d9c92c5",
   "metadata": {},
   "outputs": [
    {
     "data": {
      "text/plain": [
       "[1, 1]"
      ]
     },
     "execution_count": 32,
     "metadata": {},
     "output_type": "execute_result"
    }
   ],
   "source": [
    "[1] * 2"
   ]
  },
  {
   "cell_type": "code",
   "execution_count": 33,
   "id": "a919d63b",
   "metadata": {},
   "outputs": [
    {
     "ename": "TypeError",
     "evalue": "can't multiply sequence by non-int of type 'list'",
     "output_type": "error",
     "traceback": [
      "\u001b[0;31m---------------------------------------------------------------------------\u001b[0m",
      "\u001b[0;31mTypeError\u001b[0m                                 Traceback (most recent call last)",
      "Input \u001b[0;32mIn [33]\u001b[0m, in \u001b[0;36m<cell line: 1>\u001b[0;34m()\u001b[0m\n\u001b[0;32m----> 1\u001b[0m \u001b[43m[\u001b[49m\u001b[38;5;241;43m1\u001b[39;49m\u001b[43m]\u001b[49m\u001b[43m \u001b[49m\u001b[38;5;241;43m*\u001b[39;49m\u001b[43m \u001b[49m\u001b[43m[\u001b[49m\u001b[38;5;241;43m2\u001b[39;49m\u001b[43m]\u001b[49m\n",
      "\u001b[0;31mTypeError\u001b[0m: can't multiply sequence by non-int of type 'list'"
     ]
    }
   ],
   "source": [
    "[1] * [2]"
   ]
  },
  {
   "cell_type": "code",
   "execution_count": 34,
   "id": "15869786",
   "metadata": {},
   "outputs": [
    {
     "data": {
      "text/plain": [
       "True"
      ]
     },
     "execution_count": 34,
     "metadata": {},
     "output_type": "execute_result"
    }
   ],
   "source": [
    "[] + [] == []"
   ]
  },
  {
   "cell_type": "code",
   "execution_count": 35,
   "id": "ea6da2f3",
   "metadata": {},
   "outputs": [
    {
     "ename": "TypeError",
     "evalue": "unsupported operand type(s) for +: 'dict' and 'dict'",
     "output_type": "error",
     "traceback": [
      "\u001b[0;31m---------------------------------------------------------------------------\u001b[0m",
      "\u001b[0;31mTypeError\u001b[0m                                 Traceback (most recent call last)",
      "Input \u001b[0;32mIn [35]\u001b[0m, in \u001b[0;36m<cell line: 1>\u001b[0;34m()\u001b[0m\n\u001b[0;32m----> 1\u001b[0m \u001b[43m{\u001b[49m\u001b[43m}\u001b[49m\u001b[43m \u001b[49m\u001b[38;5;241;43m+\u001b[39;49m\u001b[43m \u001b[49m\u001b[43m{\u001b[49m\u001b[43m}\u001b[49m\n",
      "\u001b[0;31mTypeError\u001b[0m: unsupported operand type(s) for +: 'dict' and 'dict'"
     ]
    }
   ],
   "source": [
    "{} + {}"
   ]
  },
  {
   "cell_type": "markdown",
   "id": "732c2ad3",
   "metadata": {},
   "source": [
    "## Create a Python script file named data_types_and_variables.py. Inside it, write some Python code, that is, variables and operators, to describe the following scenarios. Do not worry about the real operations to get the values, the goal of these exercises is to understand how real world conditions can be represented with code."
   ]
  },
  {
   "cell_type": "markdown",
   "id": "8a88f2ee",
   "metadata": {},
   "source": [
    "### You have rented some movies for your kids: The little mermaid (for 3 days), Brother Bear (for 5 days, they love it), and Hercules (1 day, you don't know yet if they're going to like it). If price for a movie per day is 3 dollars, how much will you have to pay?"
   ]
  },
  {
   "cell_type": "code",
   "execution_count": 37,
   "id": "61d273c7",
   "metadata": {},
   "outputs": [],
   "source": [
    "the_little_mermaid = 3\n",
    "brother_bear = 5\n",
    "hercules = 1\n",
    "rental_cost_per_day = 3\n",
    "\n",
    "total_cost = (the_little_mermaid * rental_cost_per_day + brother_bear * rental_cost_per_day + hercules * rental_cost_per_day)"
   ]
  },
  {
   "cell_type": "code",
   "execution_count": 38,
   "id": "1f818575",
   "metadata": {},
   "outputs": [
    {
     "data": {
      "text/plain": [
       "27"
      ]
     },
     "execution_count": 38,
     "metadata": {},
     "output_type": "execute_result"
    }
   ],
   "source": [
    "total_cost"
   ]
  },
  {
   "cell_type": "markdown",
   "id": "38c53fbd",
   "metadata": {},
   "source": [
    "### Suppose you're working as a contractor for 3 companies: Google, Amazon and Facebook, they pay you a different rate per hour. Google pays 400 dollars per hour, Amazon 380, and Facebook 350. How much will you receive in payment for this week? You worked 10 hours for Facebook, 6 hours for Google and 4 hours for Amazon."
   ]
  },
  {
   "cell_type": "code",
   "execution_count": 39,
   "id": "284e0c41",
   "metadata": {},
   "outputs": [],
   "source": [
    "google = 400\n",
    "amazon = 380\n",
    "facebook = 350\n",
    "total_payment = (google * 6 + amazon * 4 + facebook * 10)"
   ]
  },
  {
   "cell_type": "code",
   "execution_count": 40,
   "id": "975b19a2",
   "metadata": {},
   "outputs": [
    {
     "data": {
      "text/plain": [
       "7420"
      ]
     },
     "execution_count": 40,
     "metadata": {},
     "output_type": "execute_result"
    }
   ],
   "source": [
    "total_payment"
   ]
  },
  {
   "cell_type": "markdown",
   "id": "cc096669",
   "metadata": {},
   "source": [
    "### A student can be enrolled to a class only if the class is not full and the class schedule does not conflict with her current schedule."
   ]
  },
  {
   "cell_type": "code",
   "execution_count": 45,
   "id": "b6ba6858",
   "metadata": {},
   "outputs": [
    {
     "name": "stdout",
     "output_type": "stream",
     "text": [
      "True\n"
     ]
    }
   ],
   "source": [
    "class_is_open = True\n",
    "class_is_full = False\n",
    "schedule_is_open = True\n",
    "schedule_is_full = False\n",
    "enrollment = class_is_open and schedule_is_open\n",
    "print(enrollment)"
   ]
  },
  {
   "cell_type": "markdown",
   "id": "2bd23eca",
   "metadata": {},
   "source": [
    "### A product offer can be applied only if people buys more than 2 items, and the offer has not expired. Premium members do not need to buy a specific amount of products."
   ]
  },
  {
   "cell_type": "code",
   "execution_count": 52,
   "id": "8d4f6fcc",
   "metadata": {},
   "outputs": [],
   "source": [
    "offer_active = True\n",
    "offer_expired = False\n",
    "premium_member = True\n",
    "regular_member = False\n",
    "multiple_items_purchased = True\n",
    "one_item_purchased = False\n",
    "\n",
    "product_offer = (offer_active and multiple_items_purchased) or (offer_active and premium_member)"
   ]
  },
  {
   "cell_type": "code",
   "execution_count": null,
   "id": "1ef12610",
   "metadata": {},
   "outputs": [],
   "source": []
  },
  {
   "cell_type": "markdown",
   "id": "0db3936a",
   "metadata": {},
   "source": [
    "### Create a variable that holds a boolean value for each of the following conditions:\n",
    "\n",
    "the password must be at least 5 characters\n",
    "the username must be no more than 20 characters\n",
    "the password must not be the same as the username\n",
    "bonus neither the username or password can start or end with whitespace\n",
    "\n",
    "\n",
    "username = 'codeup'\n",
    "password = 'notastrongpassword'"
   ]
  },
  {
   "cell_type": "markdown",
   "id": "b0493028",
   "metadata": {},
   "source": [
    "username = 'codeup'\n",
    "password = 'notastrongpassword'\n",
    "\n",
    "password_length >= 5 \n",
    "password_length <= 20\n",
    "password != username\n",
    "\n",
    "def password_length: len(str) >= 5 and len(str) <=20\n",
    "    \n"
   ]
  },
  {
   "cell_type": "markdown",
   "id": "6a86d9dd",
   "metadata": {},
   "source": [
    "# BONUS\n",
    "\n",
    "fruits = ['mango', 'kiwi', 'strawberry', 'guava', 'pineapple', 'mandarin orange']\n",
    "\n",
    "numbers = [2, 3, 4, 5, 6, 7, 8, 9, 10, 11, 13, 17, 19, 23, 256, -8, -4, -2, 5, -9]\n",
    "\n",
    "# Example for loop solution to add 1 to each number in the list\n",
    "numbers_plus_one = []\n",
    "for number in numbers:\n",
    "    numbers_plus_one.append(number + 1)\n",
    "\n",
    "# Example of using a list comprehension to create a list of the numbers plus one.\n",
    "numbers_plus_one = [number + 1 for number in numbers]\n",
    "\n",
    "# Example code that creates a list of all of the list of strings in fruits and uppercases every string\n",
    "output = []\n",
    "for fruit in fruits:\n",
    "    output.append(fruit.upper())"
   ]
  },
  {
   "cell_type": "code",
   "execution_count": 57,
   "id": "871154f4",
   "metadata": {},
   "outputs": [],
   "source": [
    "fruits = ['mango', 'kiwi', 'strawberry', 'guava', 'pineapple', 'mandarin orange']\n",
    "numbers = [2, 3, 4, 5, 6, 7, 8, 9, 10, 11, 13, 17, 19, 23, 256, -8, -4, -2, 5, -9]"
   ]
  },
  {
   "cell_type": "markdown",
   "id": "e7b5f98d",
   "metadata": {},
   "source": [
    "### Exercise 1 - rewrite the above example code using list comprehension syntax. Make a variable named uppercased_fruits to hold the output of the list comprehension. Output should be ['MANGO', 'KIWI', etc...]"
   ]
  },
  {
   "cell_type": "code",
   "execution_count": 61,
   "id": "8dedf2c8",
   "metadata": {},
   "outputs": [],
   "source": [
    "fruits = ['mango', 'kiwi', 'strawberry', 'guava', 'pineapple', 'mandarin orange']"
   ]
  },
  {
   "cell_type": "code",
   "execution_count": 65,
   "id": "440d56ab",
   "metadata": {},
   "outputs": [
    {
     "data": {
      "text/plain": [
       "['MANGO', 'KIWI', 'STRAWBERRY', 'GUAVA', 'PINEAPPLE', 'MANDARIN ORANGE']"
      ]
     },
     "execution_count": 65,
     "metadata": {},
     "output_type": "execute_result"
    }
   ],
   "source": [
    "uppercased_fruits = [fruit.upper() for fruit in fruits]\n",
    "uppercased_fruits"
   ]
  },
  {
   "cell_type": "markdown",
   "id": "4dbf7e2a",
   "metadata": {},
   "source": [
    "### Exercise 2 - create a variable named capitalized_fruits and use list comprehension syntax to produce output like ['Mango', 'Kiwi', 'Strawberry', etc...]"
   ]
  },
  {
   "cell_type": "code",
   "execution_count": 67,
   "id": "64f8df8d",
   "metadata": {},
   "outputs": [
    {
     "data": {
      "text/plain": [
       "['Mango', 'Kiwi', 'Strawberry', 'Guava', 'Pineapple', 'Mandarin orange']"
      ]
     },
     "execution_count": 67,
     "metadata": {},
     "output_type": "execute_result"
    }
   ],
   "source": [
    "capitalized_fruits = [fruit.capitalize() for fruit in fruits]\n",
    "capitalized_fruits"
   ]
  },
  {
   "cell_type": "markdown",
   "id": "f49c8ef0",
   "metadata": {},
   "source": [
    "### Exercise 3 - Use a list comprehension to make a variable named fruits_with_more_than_two_vowels. Hint: You'll need a way to check if something is a vowel."
   ]
  },
  {
   "cell_type": "code",
   "execution_count": 69,
   "id": "f515f1c3",
   "metadata": {},
   "outputs": [
    {
     "data": {
      "text/plain": [
       "['guava', 'pineapple', 'mandarin orange']"
      ]
     },
     "execution_count": 69,
     "metadata": {},
     "output_type": "execute_result"
    }
   ],
   "source": [
    "fruits_with_more_than_two_vowels = [fruit for fruit in fruits if (\n",
    "            fruit.count(\"a\") + \n",
    "            fruit.count(\"e\") + \n",
    "            fruit.count(\"i\") + \n",
    "            fruit.count(\"o\") + \n",
    "            fruit.count(\"u\")) > 2]         \n",
    "fruits_with_more_than_two_vowels"
   ]
  },
  {
   "cell_type": "markdown",
   "id": "31e14149",
   "metadata": {},
   "source": [
    "### Exercise 4 - make a variable named fruits_with_only_two_vowels. The result should be ['mango', 'kiwi', 'strawberry']"
   ]
  },
  {
   "cell_type": "code",
   "execution_count": 74,
   "id": "759206bb",
   "metadata": {},
   "outputs": [
    {
     "data": {
      "text/plain": [
       "['mango', 'kiwi', 'strawberry']"
      ]
     },
     "execution_count": 74,
     "metadata": {},
     "output_type": "execute_result"
    }
   ],
   "source": [
    "fruits_with_only_two_vowels = [fruit for fruit in fruits if (\n",
    "        fruit.count(\"a\") +\n",
    "        fruit.count(\"e\") +\n",
    "        fruit.count(\"i\") +\n",
    "        fruit.count(\"o\") +\n",
    "        fruit.count(\"u\")) == 2]\n",
    "fruits_with_only_two_vowels"
   ]
  },
  {
   "cell_type": "markdown",
   "id": "202b9c9a",
   "metadata": {},
   "source": [
    "### Exercise 5 - make a list that contains each fruit with more than 5 characters"
   ]
  },
  {
   "cell_type": "code",
   "execution_count": 75,
   "id": "6c367c3d",
   "metadata": {},
   "outputs": [
    {
     "data": {
      "text/plain": [
       "['strawberry', 'pineapple', 'mandarin orange']"
      ]
     },
     "execution_count": 75,
     "metadata": {},
     "output_type": "execute_result"
    }
   ],
   "source": [
    "[fruit for fruit in fruits if (len(fruit) > 5)]"
   ]
  },
  {
   "cell_type": "markdown",
   "id": "f2684a72",
   "metadata": {},
   "source": [
    "### Exercise 6 - make a list that contains each fruit with exactly 5 characters"
   ]
  },
  {
   "cell_type": "code",
   "execution_count": 77,
   "id": "b44185cd",
   "metadata": {},
   "outputs": [
    {
     "data": {
      "text/plain": [
       "['mango', 'guava']"
      ]
     },
     "execution_count": 77,
     "metadata": {},
     "output_type": "execute_result"
    }
   ],
   "source": [
    "[fruit for fruit in fruits if (len(fruit) == 5)]"
   ]
  },
  {
   "cell_type": "code",
   "execution_count": null,
   "id": "e1b7edb6",
   "metadata": {},
   "outputs": [],
   "source": []
  }
 ],
 "metadata": {
  "kernelspec": {
   "display_name": "Python 3 (ipykernel)",
   "language": "python",
   "name": "python3"
  },
  "language_info": {
   "codemirror_mode": {
    "name": "ipython",
    "version": 3
   },
   "file_extension": ".py",
   "mimetype": "text/x-python",
   "name": "python",
   "nbconvert_exporter": "python",
   "pygments_lexer": "ipython3",
   "version": "3.9.12"
  }
 },
 "nbformat": 4,
 "nbformat_minor": 5
}
