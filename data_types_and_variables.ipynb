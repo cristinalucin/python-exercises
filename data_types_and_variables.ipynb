{
 "cells": [
  {
   "cell_type": "markdown",
   "id": "496984c9",
   "metadata": {},
   "source": [
    "# Exercises\n",
    "\n",
    "Identify the data type of the following values:"
   ]
  },
  {
   "cell_type": "code",
   "execution_count": null,
   "id": "c70d1683",
   "metadata": {},
   "outputs": [],
   "source": [
    "type(99.9)"
   ]
  },
  {
   "cell_type": "code",
   "execution_count": null,
   "id": "901fd34e",
   "metadata": {},
   "outputs": [],
   "source": [
    "type(\"False\")"
   ]
  },
  {
   "cell_type": "code",
   "execution_count": null,
   "id": "c0bc76aa",
   "metadata": {},
   "outputs": [],
   "source": [
    "type(False)"
   ]
  },
  {
   "cell_type": "code",
   "execution_count": null,
   "id": "3d6623d8",
   "metadata": {},
   "outputs": [],
   "source": [
    "type('0')"
   ]
  },
  {
   "cell_type": "code",
   "execution_count": null,
   "id": "855aac89",
   "metadata": {},
   "outputs": [],
   "source": [
    "type(0)"
   ]
  },
  {
   "cell_type": "code",
   "execution_count": null,
   "id": "682848b5",
   "metadata": {},
   "outputs": [],
   "source": [
    "type('true')"
   ]
  },
  {
   "cell_type": "code",
   "execution_count": null,
   "id": "19e569a3",
   "metadata": {},
   "outputs": [],
   "source": [
    "type(True)"
   ]
  },
  {
   "cell_type": "code",
   "execution_count": null,
   "id": "f7f08030",
   "metadata": {},
   "outputs": [],
   "source": [
    "type([{}])"
   ]
  },
  {
   "cell_type": "code",
   "execution_count": null,
   "id": "923e8c75",
   "metadata": {},
   "outputs": [],
   "source": [
    "type({'a': []})"
   ]
  },
  {
   "cell_type": "markdown",
   "id": "044d85cf",
   "metadata": {},
   "source": [
    "### What data type would best represent:"
   ]
  },
  {
   "cell_type": "markdown",
   "id": "bbf7b3fc",
   "metadata": {},
   "source": [
    "a term or phrase typed into a search box:  \n",
    "- string\n",
    "\n",
    "If a user is logged in: \n",
    "- boolean\n",
    "\n",
    "A discount amount to apply to a user's shopping cart?\n",
    "- float\n",
    "\n",
    "Whether or not a coupon code is valid?\n",
    "- boolean\n",
    "\n",
    "An email address typed into a registration form?\n",
    "- String\n",
    "\n",
    "The price of a product?\n",
    "- Float\n",
    "\n",
    "A Matrix?\n",
    "- List of List\n",
    "\n",
    "The email addresses collected from a registration form?\n",
    "- List\n",
    "\n",
    "Information about applicants to Codeup's data science program?\n",
    "- Dictionary"
   ]
  },
  {
   "cell_type": "markdown",
   "id": "b0bf03aa",
   "metadata": {},
   "source": [
    "## For each of the following code blocks, read the expression and predict what the result of evaluating it would be, then execute the expression in your Python REPL."
   ]
  },
  {
   "cell_type": "code",
   "execution_count": null,
   "id": "170f2e19",
   "metadata": {},
   "outputs": [],
   "source": [
    "'1' + 2"
   ]
  },
  {
   "cell_type": "code",
   "execution_count": null,
   "id": "bb7800d5",
   "metadata": {},
   "outputs": [],
   "source": [
    "6 % 4"
   ]
  },
  {
   "cell_type": "code",
   "execution_count": null,
   "id": "096d7bce",
   "metadata": {},
   "outputs": [],
   "source": [
    "type(6 % 4)"
   ]
  },
  {
   "cell_type": "code",
   "execution_count": null,
   "id": "ab3da4d5",
   "metadata": {},
   "outputs": [],
   "source": [
    "type(type(6 % 4))"
   ]
  },
  {
   "cell_type": "code",
   "execution_count": null,
   "id": "fed69b94",
   "metadata": {},
   "outputs": [],
   "source": [
    "'3 + 4 is ' + 3 + 4"
   ]
  },
  {
   "cell_type": "code",
   "execution_count": null,
   "id": "0897e969",
   "metadata": {},
   "outputs": [],
   "source": [
    "0 < 0"
   ]
  },
  {
   "cell_type": "code",
   "execution_count": null,
   "id": "1ee395fe",
   "metadata": {},
   "outputs": [],
   "source": [
    "'False' == False"
   ]
  },
  {
   "cell_type": "code",
   "execution_count": null,
   "id": "b6bab9d1",
   "metadata": {},
   "outputs": [],
   "source": [
    "True == 'True'"
   ]
  },
  {
   "cell_type": "code",
   "execution_count": null,
   "id": "6a96f922",
   "metadata": {},
   "outputs": [],
   "source": [
    "5 >= -5"
   ]
  },
  {
   "cell_type": "code",
   "execution_count": null,
   "id": "30777014",
   "metadata": {},
   "outputs": [],
   "source": [
    "True or \"42\""
   ]
  },
  {
   "cell_type": "markdown",
   "id": "1c259fac",
   "metadata": {},
   "source": [
    "python will return the last value if it cannot evaluate truth/false"
   ]
  },
  {
   "cell_type": "code",
   "execution_count": null,
   "id": "58f579fd",
   "metadata": {},
   "outputs": [],
   "source": [
    "6 % 5"
   ]
  },
  {
   "cell_type": "code",
   "execution_count": null,
   "id": "a8aae4ed",
   "metadata": {},
   "outputs": [],
   "source": [
    "5 < 4 and 1 == 1"
   ]
  },
  {
   "cell_type": "code",
   "execution_count": null,
   "id": "8fab766d",
   "metadata": {},
   "outputs": [],
   "source": [
    "'codeup' == 'codeup' and 'codeup' == 'Codeup'"
   ]
  },
  {
   "cell_type": "code",
   "execution_count": null,
   "id": "c4cd316e",
   "metadata": {},
   "outputs": [],
   "source": [
    "4 >= 0 and 1 !== '1'"
   ]
  },
  {
   "cell_type": "code",
   "execution_count": null,
   "id": "ead193e0",
   "metadata": {},
   "outputs": [],
   "source": [
    "4 >= 0 and 1 !== '1'"
   ]
  },
  {
   "cell_type": "code",
   "execution_count": null,
   "id": "3a235a59",
   "metadata": {},
   "outputs": [],
   "source": [
    "6 % 3 == 0"
   ]
  },
  {
   "cell_type": "code",
   "execution_count": null,
   "id": "c5e2c5e8",
   "metadata": {},
   "outputs": [],
   "source": [
    "5 % 2 != 0"
   ]
  },
  {
   "cell_type": "code",
   "execution_count": null,
   "id": "a7e0c1f6",
   "metadata": {},
   "outputs": [],
   "source": [
    "[1] + 2"
   ]
  },
  {
   "cell_type": "code",
   "execution_count": null,
   "id": "34163828",
   "metadata": {},
   "outputs": [],
   "source": [
    "[1] + [2]"
   ]
  },
  {
   "cell_type": "code",
   "execution_count": null,
   "id": "1a5dd559",
   "metadata": {},
   "outputs": [],
   "source": [
    "[1] * 2"
   ]
  },
  {
   "cell_type": "code",
   "execution_count": null,
   "id": "4b2d8cca",
   "metadata": {},
   "outputs": [],
   "source": [
    "[1] * [2]"
   ]
  },
  {
   "cell_type": "code",
   "execution_count": null,
   "id": "b4a4d27e",
   "metadata": {},
   "outputs": [],
   "source": [
    "[] + [] == []"
   ]
  },
  {
   "cell_type": "code",
   "execution_count": null,
   "id": "57b4ff23",
   "metadata": {},
   "outputs": [],
   "source": [
    "{} + {}"
   ]
  },
  {
   "cell_type": "markdown",
   "id": "542d0061",
   "metadata": {},
   "source": [
    "## Create a Python script file named data_types_and_variables.py. Inside it, write some Python code, that is, variables and operators, to describe the following scenarios. Do not worry about the real operations to get the values, the goal of these exercises is to understand how real world conditions can be represented with code."
   ]
  },
  {
   "cell_type": "markdown",
   "id": "92104239",
   "metadata": {},
   "source": [
    "### You have rented some movies for your kids: The little mermaid (for 3 days), Brother Bear (for 5 days, they love it), and Hercules (1 day, you don't know yet if they're going to like it). If price for a movie per day is 3 dollars, how much will you have to pay?"
   ]
  },
  {
   "cell_type": "code",
   "execution_count": null,
   "id": "7e8cc68a",
   "metadata": {},
   "outputs": [],
   "source": [
    "the_little_mermaid = 3\n",
    "brother_bear = 5\n",
    "hercules = 1\n",
    "rental_cost_per_day = 3\n",
    "\n",
    "total_cost = (the_little_mermaid * rental_cost_per_day + brother_bear * rental_cost_per_day + hercules * rental_cost_per_day)"
   ]
  },
  {
   "cell_type": "code",
   "execution_count": null,
   "id": "c69bc144",
   "metadata": {},
   "outputs": [],
   "source": [
    "total_cost"
   ]
  },
  {
   "cell_type": "markdown",
   "id": "35009076",
   "metadata": {},
   "source": [
    "### Suppose you're working as a contractor for 3 companies: Google, Amazon and Facebook, they pay you a different rate per hour. Google pays 400 dollars per hour, Amazon 380, and Facebook 350. How much will you receive in payment for this week? You worked 10 hours for Facebook, 6 hours for Google and 4 hours for Amazon."
   ]
  },
  {
   "cell_type": "code",
   "execution_count": null,
   "id": "b71ab669",
   "metadata": {},
   "outputs": [],
   "source": [
    "google = 400\n",
    "amazon = 380\n",
    "facebook = 350\n",
    "total_payment = (google * 6 + amazon * 4 + facebook * 10)"
   ]
  },
  {
   "cell_type": "code",
   "execution_count": null,
   "id": "8197f7d9",
   "metadata": {},
   "outputs": [],
   "source": [
    "total_payment"
   ]
  },
  {
   "cell_type": "markdown",
   "id": "90446e54",
   "metadata": {},
   "source": [
    "### A student can be enrolled to a class only if the class is not full and the class schedule does not conflict with her current schedule."
   ]
  },
  {
   "cell_type": "code",
   "execution_count": null,
   "id": "a19289a3",
   "metadata": {},
   "outputs": [],
   "source": [
    "class_is_open = True\n",
    "class_is_full = False\n",
    "schedule_is_open = True\n",
    "schedule_is_full = False\n",
    "enrollment = class_is_open and schedule_is_open\n",
    "print(enrollment)"
   ]
  },
  {
   "cell_type": "markdown",
   "id": "73b75e5e",
   "metadata": {},
   "source": [
    "### A product offer can be applied only if people buys more than 2 items, and the offer has not expired. Premium members do not need to buy a specific amount of products."
   ]
  },
  {
   "cell_type": "code",
   "execution_count": null,
   "id": "7b81b699",
   "metadata": {},
   "outputs": [],
   "source": [
    "offer_active = True\n",
    "offer_expired = False\n",
    "premium_member = True\n",
    "regular_member = False\n",
    "multiple_items_purchased = True\n",
    "one_item_purchased = False\n",
    "\n",
    "product_offer = (offer_active and multiple_items_purchased) or (offer_active and premium_member)"
   ]
  },
  {
   "cell_type": "markdown",
   "id": "234fecc5",
   "metadata": {},
   "source": [
    "### Create a variable that holds a boolean value for each of the following conditions:\n",
    "\n",
    "the password must be at least 5 characters\n",
    "the username must be no more than 20 characters\n",
    "the password must not be the same as the username\n",
    "bonus neither the username or password can start or end with whitespace\n",
    "\n",
    "\n",
    "username = 'codeup'\n",
    "password = 'notastrongpassword'"
   ]
  },
  {
   "cell_type": "code",
   "execution_count": null,
   "id": "87897080",
   "metadata": {},
   "outputs": [],
   "source": [
    "my_username = 'King'\n",
    "my_password = 'Ryanisthebest'"
   ]
  },
  {
   "cell_type": "code",
   "execution_count": null,
   "id": "a51b36bd",
   "metadata": {},
   "outputs": [],
   "source": [
    "check_1 = len(my_password) > 4"
   ]
  },
  {
   "cell_type": "code",
   "execution_count": null,
   "id": "d7f0e543",
   "metadata": {},
   "outputs": [],
   "source": [
    "check_2 = len(my_username) <= 20"
   ]
  },
  {
   "cell_type": "code",
   "execution_count": null,
   "id": "3296723b",
   "metadata": {},
   "outputs": [],
   "source": [
    "check_3 = my_username != my_password"
   ]
  },
  {
   "cell_type": "markdown",
   "id": "649e2bbc",
   "metadata": {},
   "source": [
    "# BONUS\n",
    "\n",
    "fruits = ['mango', 'kiwi', 'strawberry', 'guava', 'pineapple', 'mandarin orange']\n",
    "\n",
    "numbers = [2, 3, 4, 5, 6, 7, 8, 9, 10, 11, 13, 17, 19, 23, 256, -8, -4, -2, 5, -9]\n",
    "\n",
    "# Example for loop solution to add 1 to each number in the list\n",
    "numbers_plus_one = []\n",
    "for number in numbers:\n",
    "    numbers_plus_one.append(number + 1)\n",
    "\n",
    "# Example of using a list comprehension to create a list of the numbers plus one.\n",
    "numbers_plus_one = [number + 1 for number in numbers]\n",
    "\n",
    "# Example code that creates a list of all of the list of strings in fruits and uppercases every string\n",
    "output = []\n",
    "for fruit in fruits:\n",
    "    output.append(fruit.upper())"
   ]
  },
  {
   "cell_type": "code",
   "execution_count": null,
   "id": "6c78fbc1",
   "metadata": {},
   "outputs": [],
   "source": [
    "fruits = ['mango', 'kiwi', 'strawberry', 'guava', 'pineapple', 'mandarin orange']\n",
    "numbers = [2, 3, 4, 5, 6, 7, 8, 9, 10, 11, 13, 17, 19, 23, 256, -8, -4, -2, 5, -9]"
   ]
  },
  {
   "cell_type": "markdown",
   "id": "fa33b6b5",
   "metadata": {},
   "source": [
    "### Exercise 1 - rewrite the above example code using list comprehension syntax. Make a variable named uppercased_fruits to hold the output of the list comprehension. Output should be ['MANGO', 'KIWI', etc...]"
   ]
  },
  {
   "cell_type": "code",
   "execution_count": null,
   "id": "52a88799",
   "metadata": {},
   "outputs": [],
   "source": [
    "fruits = ['mango', 'kiwi', 'strawberry', 'guava', 'pineapple', 'mandarin orange']"
   ]
  },
  {
   "cell_type": "code",
   "execution_count": null,
   "id": "804eaf72",
   "metadata": {},
   "outputs": [],
   "source": [
    "uppercased_fruits = [fruit.upper() for fruit in fruits]\n",
    "uppercased_fruits"
   ]
  },
  {
   "cell_type": "markdown",
   "id": "09f629e5",
   "metadata": {},
   "source": [
    "### Exercise 2 - create a variable named capitalized_fruits and use list comprehension syntax to produce output like ['Mango', 'Kiwi', 'Strawberry', etc...]"
   ]
  },
  {
   "cell_type": "code",
   "execution_count": null,
   "id": "b62a2360",
   "metadata": {},
   "outputs": [],
   "source": [
    "capitalized_fruits = [fruit.capitalize() for fruit in fruits]\n",
    "capitalized_fruits"
   ]
  },
  {
   "cell_type": "markdown",
   "id": "8b1ac58e",
   "metadata": {},
   "source": [
    "### Exercise 3 - Use a list comprehension to make a variable named fruits_with_more_than_two_vowels. Hint: You'll need a way to check if something is a vowel."
   ]
  },
  {
   "cell_type": "code",
   "execution_count": null,
   "id": "8628ca96",
   "metadata": {},
   "outputs": [],
   "source": [
    "fruits_with_more_than_two_vowels = [fruit for fruit in fruits if (\n",
    "            fruit.count(\"a\") + \n",
    "            fruit.count(\"e\") + \n",
    "            fruit.count(\"i\") + \n",
    "            fruit.count(\"o\") + \n",
    "            fruit.count(\"u\")) > 2]         \n",
    "fruits_with_more_than_two_vowels"
   ]
  },
  {
   "cell_type": "markdown",
   "id": "02c8c02f",
   "metadata": {},
   "source": [
    "### Exercise 4 - make a variable named fruits_with_only_two_vowels. The result should be ['mango', 'kiwi', 'strawberry']"
   ]
  },
  {
   "cell_type": "code",
   "execution_count": null,
   "id": "ddf54377",
   "metadata": {},
   "outputs": [],
   "source": [
    "fruits_with_only_two_vowels = [fruit for fruit in fruits if (\n",
    "        fruit.count(\"a\") +\n",
    "        fruit.count(\"e\") +\n",
    "        fruit.count(\"i\") +\n",
    "        fruit.count(\"o\") +\n",
    "        fruit.count(\"u\")) == 2]\n",
    "fruits_with_only_two_vowels"
   ]
  },
  {
   "cell_type": "markdown",
   "id": "91c52523",
   "metadata": {},
   "source": [
    "### Exercise 5 - make a list that contains each fruit with more than 5 characters"
   ]
  },
  {
   "cell_type": "code",
   "execution_count": null,
   "id": "0253b920",
   "metadata": {},
   "outputs": [],
   "source": [
    "[fruit for fruit in fruits if (len(fruit) > 5)]"
   ]
  },
  {
   "cell_type": "markdown",
   "id": "5fb6608b",
   "metadata": {},
   "source": [
    "### Exercise 6 - make a list that contains each fruit with exactly 5 characters"
   ]
  },
  {
   "cell_type": "code",
   "execution_count": null,
   "id": "a71bdc0b",
   "metadata": {},
   "outputs": [],
   "source": [
    "[fruit for fruit in fruits if (len(fruit) == 5)]"
   ]
  },
  {
   "cell_type": "code",
   "execution_count": null,
   "id": "61d65335",
   "metadata": {},
   "outputs": [],
   "source": []
  }
 ],
 "metadata": {
  "kernelspec": {
   "display_name": "Python 3 (ipykernel)",
   "language": "python",
   "name": "python3"
  },
  "language_info": {
   "codemirror_mode": {
    "name": "ipython",
    "version": 3
   },
   "file_extension": ".py",
   "mimetype": "text/x-python",
   "name": "python",
   "nbconvert_exporter": "python",
   "pygments_lexer": "ipython3",
   "version": "3.9.12"
  }
 },
 "nbformat": 4,
 "nbformat_minor": 5
}
